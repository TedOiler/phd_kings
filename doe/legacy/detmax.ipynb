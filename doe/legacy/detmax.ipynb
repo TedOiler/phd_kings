{
 "cells": [
  {
   "cell_type": "code",
   "execution_count": 1,
   "metadata": {
    "tags": []
   },
   "outputs": [],
   "source": [
    "import numpy as np\n",
    "import pandas as pd"
   ]
  },
  {
   "cell_type": "code",
   "execution_count": 2,
   "metadata": {
    "collapsed": false,
    "jupyter": {
     "outputs_hidden": false
    },
    "pycharm": {
     "name": "#%%\n"
    }
   },
   "outputs": [],
   "source": [
    "def gen_candidate_set(xis):\n",
    "    return pd.DataFrame(np.array(np.meshgrid(*xis)).T.reshape(-1,len(xis)))*1.0"
   ]
  },
  {
   "cell_type": "code",
   "execution_count": 3,
   "metadata": {
    "collapsed": false,
    "jupyter": {
     "outputs_hidden": false
    },
    "pycharm": {
     "name": "#%%\n"
    }
   },
   "outputs": [],
   "source": [
    "def gen_model_matrix(candidate, n):\n",
    "    # only main model effects is implemented for the time being.\n",
    "    # TODO: extend to more complicated model structures as well.\n",
    "    return candidate.sample(n, replace=False)"
   ]
  },
  {
   "cell_type": "code",
   "execution_count": 4,
   "outputs": [
    {
     "data": {
      "text/plain": "        0    1    2    3    4    5    6    7\n1297 -1.0  0.0 -1.0 -1.0  0.0  1.0  0.0 -1.0\n909  -1.0 -1.0  1.0 -1.0  1.0 -1.0  0.0 -1.0\n4242  0.0 -1.0 -1.0  0.0  0.0  1.0  1.0  0.0\n1550 -1.0  1.0  0.0 -1.0  0.0 -1.0  1.0 -1.0\n1344  0.0 -1.0  1.0  0.0  0.0  1.0  0.0 -1.0\n6163  1.0  0.0 -1.0 -1.0  0.0  0.0  1.0  1.0\n754   1.0  0.0  1.0 -1.0 -1.0 -1.0  0.0 -1.0\n2675 -1.0  1.0 -1.0 -1.0 -1.0  1.0 -1.0  0.0\n5102  1.0  1.0  1.0  1.0  1.0  1.0 -1.0  1.0\n4000  0.0  0.0 -1.0  0.0  0.0  0.0  1.0  0.0\n4589  1.0  1.0  1.0  0.0  1.0 -1.0 -1.0  1.0\n843   1.0 -1.0 -1.0  0.0  0.0 -1.0  0.0 -1.0",
      "text/html": "<div>\n<style scoped>\n    .dataframe tbody tr th:only-of-type {\n        vertical-align: middle;\n    }\n\n    .dataframe tbody tr th {\n        vertical-align: top;\n    }\n\n    .dataframe thead th {\n        text-align: right;\n    }\n</style>\n<table border=\"1\" class=\"dataframe\">\n  <thead>\n    <tr style=\"text-align: right;\">\n      <th></th>\n      <th>0</th>\n      <th>1</th>\n      <th>2</th>\n      <th>3</th>\n      <th>4</th>\n      <th>5</th>\n      <th>6</th>\n      <th>7</th>\n    </tr>\n  </thead>\n  <tbody>\n    <tr>\n      <th>1297</th>\n      <td>-1.0</td>\n      <td>0.0</td>\n      <td>-1.0</td>\n      <td>-1.0</td>\n      <td>0.0</td>\n      <td>1.0</td>\n      <td>0.0</td>\n      <td>-1.0</td>\n    </tr>\n    <tr>\n      <th>909</th>\n      <td>-1.0</td>\n      <td>-1.0</td>\n      <td>1.0</td>\n      <td>-1.0</td>\n      <td>1.0</td>\n      <td>-1.0</td>\n      <td>0.0</td>\n      <td>-1.0</td>\n    </tr>\n    <tr>\n      <th>4242</th>\n      <td>0.0</td>\n      <td>-1.0</td>\n      <td>-1.0</td>\n      <td>0.0</td>\n      <td>0.0</td>\n      <td>1.0</td>\n      <td>1.0</td>\n      <td>0.0</td>\n    </tr>\n    <tr>\n      <th>1550</th>\n      <td>-1.0</td>\n      <td>1.0</td>\n      <td>0.0</td>\n      <td>-1.0</td>\n      <td>0.0</td>\n      <td>-1.0</td>\n      <td>1.0</td>\n      <td>-1.0</td>\n    </tr>\n    <tr>\n      <th>1344</th>\n      <td>0.0</td>\n      <td>-1.0</td>\n      <td>1.0</td>\n      <td>0.0</td>\n      <td>0.0</td>\n      <td>1.0</td>\n      <td>0.0</td>\n      <td>-1.0</td>\n    </tr>\n    <tr>\n      <th>6163</th>\n      <td>1.0</td>\n      <td>0.0</td>\n      <td>-1.0</td>\n      <td>-1.0</td>\n      <td>0.0</td>\n      <td>0.0</td>\n      <td>1.0</td>\n      <td>1.0</td>\n    </tr>\n    <tr>\n      <th>754</th>\n      <td>1.0</td>\n      <td>0.0</td>\n      <td>1.0</td>\n      <td>-1.0</td>\n      <td>-1.0</td>\n      <td>-1.0</td>\n      <td>0.0</td>\n      <td>-1.0</td>\n    </tr>\n    <tr>\n      <th>2675</th>\n      <td>-1.0</td>\n      <td>1.0</td>\n      <td>-1.0</td>\n      <td>-1.0</td>\n      <td>-1.0</td>\n      <td>1.0</td>\n      <td>-1.0</td>\n      <td>0.0</td>\n    </tr>\n    <tr>\n      <th>5102</th>\n      <td>1.0</td>\n      <td>1.0</td>\n      <td>1.0</td>\n      <td>1.0</td>\n      <td>1.0</td>\n      <td>1.0</td>\n      <td>-1.0</td>\n      <td>1.0</td>\n    </tr>\n    <tr>\n      <th>4000</th>\n      <td>0.0</td>\n      <td>0.0</td>\n      <td>-1.0</td>\n      <td>0.0</td>\n      <td>0.0</td>\n      <td>0.0</td>\n      <td>1.0</td>\n      <td>0.0</td>\n    </tr>\n    <tr>\n      <th>4589</th>\n      <td>1.0</td>\n      <td>1.0</td>\n      <td>1.0</td>\n      <td>0.0</td>\n      <td>1.0</td>\n      <td>-1.0</td>\n      <td>-1.0</td>\n      <td>1.0</td>\n    </tr>\n    <tr>\n      <th>843</th>\n      <td>1.0</td>\n      <td>-1.0</td>\n      <td>-1.0</td>\n      <td>0.0</td>\n      <td>0.0</td>\n      <td>-1.0</td>\n      <td>0.0</td>\n      <td>-1.0</td>\n    </tr>\n  </tbody>\n</table>\n</div>"
     },
     "execution_count": 4,
     "metadata": {},
     "output_type": "execute_result"
    }
   ],
   "source": [
    "xis = ([-1, 0, 1],\n",
    "       [-1, 0, 1],\n",
    "       [-1, 0, 1],\n",
    "       [-1, 0, 1],\n",
    "       [-1, 0, 1],\n",
    "       [-1, 0, 1],\n",
    "       [-1, 0, 1],\n",
    "       [-1, 0, 1])\n",
    "\n",
    "# TODO: put this in a try catch to make sure that inv_mat exists\n",
    "candidate = gen_candidate_set(xis)\n",
    "X = gen_model_matrix(candidate, 12)\n",
    "candidate.drop(X.index, inplace=True)\n",
    "X"
   ],
   "metadata": {
    "collapsed": false,
    "pycharm": {
     "name": "#%%\n"
    }
   }
  },
  {
   "cell_type": "code",
   "execution_count": 5,
   "metadata": {
    "collapsed": false,
    "jupyter": {
     "outputs_hidden": false
    },
    "pycharm": {
     "name": "#%%\n"
    }
   },
   "outputs": [],
   "source": [
    "def find_best_candidate(inverse_mat, data=candidate):\n",
    "\n",
    "    # calculate variance of remaining experiments\n",
    "    variance_experiment = np.array([])\n",
    "    for i in range(data.shape[0]):\n",
    "        add_experiment = data.iloc[[i]]\n",
    "        variance_experiment = np.append(variance_experiment, (add_experiment @ inverse_mat @ add_experiment.T).iat[0,0])\n",
    "\n",
    "    # Find best experiment to add to the design (from candidates)\n",
    "    candidate = pd.DataFrame(np.hstack((data, np.array(variance_experiment).reshape(-1,1))))\n",
    "    max_var = np.argmax(candidate.iloc[:, -1])\n",
    "    varmax_candidate = candidate.iloc[[max_var], :-1]\n",
    "\n",
    "    return varmax_candidate"
   ]
  },
  {
   "cell_type": "code",
   "execution_count": 6,
   "metadata": {
    "collapsed": false,
    "jupyter": {
     "outputs_hidden": false
    },
    "pycharm": {
     "name": "#%%\n"
    }
   },
   "outputs": [],
   "source": [
    "def find_worst_experiment(inverse_mat, data=X):\n",
    "    # calculate variance of experiments already in the design\n",
    "    variance_design = np.array([])\n",
    "    for i in range(data.shape[0]):\n",
    "        rem_experiment = data.iloc[[i]]\n",
    "        variance_design = np.append(variance_design, (rem_experiment @ inverse_mat @ rem_experiment.T).iat[0,0])\n",
    "\n",
    "    # Find worst experiment to remove from the design (from design)\n",
    "    X = pd.DataFrame(np.hstack((data, np.array(variance_design).reshape(-1,1))))\n",
    "    min_var = np.argmin(X.iloc[:, -1])\n",
    "    varmin_experiment = X.iloc[[min_var], :-1]\n",
    "\n",
    "    return varmin_experiment"
   ]
  },
  {
   "cell_type": "code",
   "execution_count": 7,
   "metadata": {
    "collapsed": false,
    "jupyter": {
     "outputs_hidden": false
    },
    "pycharm": {
     "name": "#%%\n"
    }
   },
   "outputs": [],
   "source": [
    "def calculate_inv_mat(df=X):\n",
    "    inf_mat = df.T @ df # calculate information matrix\n",
    "    return np.linalg.inv(inf_mat) # calculate inverse of information matrix"
   ]
  },
  {
   "cell_type": "code",
   "execution_count": 8,
   "metadata": {
    "collapsed": false,
    "jupyter": {
     "outputs_hidden": false
    },
    "pycharm": {
     "name": "#%%\n"
    }
   },
   "outputs": [],
   "source": [
    "def add_best_experiment(can=candidate, df=X):\n",
    "    varmax = find_best_candidate(inverse_mat=calculate_inv_mat(df), data=can)\n",
    "    # add the best candidate experiment\n",
    "    df = df.append(varmax)\n",
    "    # TODO: change the below to a function\n",
    "    # drop the best candidate experiment from the candidate set\n",
    "    drop_row = np.equal(can, np.asarray(varmax)).all(1) # find row where all elements are equal to the varmax\n",
    "    can = can.drop(can.index[np.where(drop_row)[0]], inplace=False) # drop that row\n",
    "    return df, can"
   ]
  },
  {
   "cell_type": "code",
   "execution_count": 9,
   "metadata": {
    "collapsed": false,
    "jupyter": {
     "outputs_hidden": false
    },
    "pycharm": {
     "name": "#%%\n"
    }
   },
   "outputs": [],
   "source": [
    "# Something is off with the variable scopes here, need to investigate\n",
    "# X_1, candidate_1 = add_best_experiment()\n",
    "# X_1"
   ]
  },
  {
   "cell_type": "code",
   "execution_count": 10,
   "metadata": {
    "collapsed": false,
    "jupyter": {
     "outputs_hidden": false
    },
    "pycharm": {
     "name": "#%%\n"
    }
   },
   "outputs": [],
   "source": [
    "def remove_worst_experiment(df=X):\n",
    "    varmin = find_worst_experiment(inverse_mat=calculate_inv_mat(df), data=df)\n",
    "    # drop the worst experiment from X\n",
    "    drop_row = np.equal(df, np.asarray(varmin)).all(1)\n",
    "    df = df.drop(df.index[np.where(drop_row)[0]], inplace=False)\n",
    "    return df"
   ]
  },
  {
   "cell_type": "code",
   "execution_count": 11,
   "outputs": [],
   "source": [
    "# Something is off with the variable scopes here, need to investigate\n",
    "# X_rem = remove_worst_experiment(df=X_1)\n",
    "# X_rem"
   ],
   "metadata": {
    "collapsed": false,
    "pycharm": {
     "name": "#%%\n"
    }
   }
  },
  {
   "cell_type": "code",
   "execution_count": 12,
   "metadata": {
    "collapsed": false,
    "jupyter": {
     "outputs_hidden": false
    },
    "pycharm": {
     "name": "#%%\n"
    }
   },
   "outputs": [
    {
     "name": "stdout",
     "output_type": "stream",
     "text": [
      "0 (13, 8)\n",
      "1 (12, 8)\n",
      "2 (13, 8)\n",
      "3 (12, 8)\n",
      "4 (13, 8)\n",
      "5 (11, 8)\n",
      "6 (12, 8)\n",
      "7 (10, 8)\n",
      "8 (11, 8)\n",
      "9 (9, 8)\n",
      "10 (10, 8)\n",
      "11 (8, 8)\n",
      "12 (9, 8)\n",
      "13 (7, 8)\n",
      "14 (8, 8)\n",
      "15 (7, 8)\n"
     ]
    },
    {
     "ename": "LinAlgError",
     "evalue": "Singular matrix",
     "output_type": "error",
     "traceback": [
      "\u001B[0;31m---------------------------------------------------------------------------\u001B[0m",
      "\u001B[0;31mLinAlgError\u001B[0m                               Traceback (most recent call last)",
      "\u001B[0;32m/var/folders/bb/tzggm8cx2f5fyxfhdmmhn7j40000gn/T/ipykernel_31940/4196092661.py\u001B[0m in \u001B[0;36m<module>\u001B[0;34m\u001B[0m\n\u001B[1;32m      8\u001B[0m     \u001B[0;32mif\u001B[0m \u001B[0mcount\u001B[0m\u001B[0;34m%\u001B[0m\u001B[0;36m2\u001B[0m\u001B[0;34m==\u001B[0m\u001B[0;36m0\u001B[0m\u001B[0;34m:\u001B[0m\u001B[0;34m\u001B[0m\u001B[0;34m\u001B[0m\u001B[0m\n\u001B[1;32m      9\u001B[0m         \u001B[0;31m# add\u001B[0m\u001B[0;34m\u001B[0m\u001B[0;34m\u001B[0m\u001B[0m\n\u001B[0;32m---> 10\u001B[0;31m         \u001B[0mvarmax\u001B[0m \u001B[0;34m=\u001B[0m \u001B[0mfind_best_candidate\u001B[0m\u001B[0;34m(\u001B[0m\u001B[0mdata\u001B[0m\u001B[0;34m=\u001B[0m\u001B[0mX\u001B[0m\u001B[0;34m,\u001B[0m \u001B[0minverse_mat\u001B[0m\u001B[0;34m=\u001B[0m\u001B[0mcalculate_inv_mat\u001B[0m\u001B[0;34m(\u001B[0m\u001B[0mX\u001B[0m\u001B[0;34m)\u001B[0m\u001B[0;34m)\u001B[0m\u001B[0;34m\u001B[0m\u001B[0;34m\u001B[0m\u001B[0m\n\u001B[0m\u001B[1;32m     11\u001B[0m         \u001B[0;31m# add the best candidate experiment\u001B[0m\u001B[0;34m\u001B[0m\u001B[0;34m\u001B[0m\u001B[0m\n\u001B[1;32m     12\u001B[0m         \u001B[0mX\u001B[0m \u001B[0;34m=\u001B[0m \u001B[0mX\u001B[0m\u001B[0;34m.\u001B[0m\u001B[0mappend\u001B[0m\u001B[0;34m(\u001B[0m\u001B[0mvarmax\u001B[0m\u001B[0;34m)\u001B[0m\u001B[0;34m\u001B[0m\u001B[0;34m\u001B[0m\u001B[0m\n",
      "\u001B[0;32m/var/folders/bb/tzggm8cx2f5fyxfhdmmhn7j40000gn/T/ipykernel_31940/2555166301.py\u001B[0m in \u001B[0;36mcalculate_inv_mat\u001B[0;34m(df)\u001B[0m\n\u001B[1;32m      1\u001B[0m \u001B[0;32mdef\u001B[0m \u001B[0mcalculate_inv_mat\u001B[0m\u001B[0;34m(\u001B[0m\u001B[0mdf\u001B[0m\u001B[0;34m=\u001B[0m\u001B[0mX\u001B[0m\u001B[0;34m)\u001B[0m\u001B[0;34m:\u001B[0m\u001B[0;34m\u001B[0m\u001B[0;34m\u001B[0m\u001B[0m\n\u001B[1;32m      2\u001B[0m     \u001B[0minf_mat\u001B[0m \u001B[0;34m=\u001B[0m \u001B[0mdf\u001B[0m\u001B[0;34m.\u001B[0m\u001B[0mT\u001B[0m \u001B[0;34m@\u001B[0m \u001B[0mdf\u001B[0m \u001B[0;31m# calculate information matrix\u001B[0m\u001B[0;34m\u001B[0m\u001B[0;34m\u001B[0m\u001B[0m\n\u001B[0;32m----> 3\u001B[0;31m     \u001B[0;32mreturn\u001B[0m \u001B[0mnp\u001B[0m\u001B[0;34m.\u001B[0m\u001B[0mlinalg\u001B[0m\u001B[0;34m.\u001B[0m\u001B[0minv\u001B[0m\u001B[0;34m(\u001B[0m\u001B[0minf_mat\u001B[0m\u001B[0;34m)\u001B[0m \u001B[0;31m# calculate inverse of information matrix\u001B[0m\u001B[0;34m\u001B[0m\u001B[0;34m\u001B[0m\u001B[0m\n\u001B[0m",
      "\u001B[0;32m<__array_function__ internals>\u001B[0m in \u001B[0;36minv\u001B[0;34m(*args, **kwargs)\u001B[0m\n",
      "\u001B[0;32m~/opt/anaconda3/lib/python3.9/site-packages/numpy/linalg/linalg.py\u001B[0m in \u001B[0;36minv\u001B[0;34m(a)\u001B[0m\n\u001B[1;32m    543\u001B[0m     \u001B[0msignature\u001B[0m \u001B[0;34m=\u001B[0m \u001B[0;34m'D->D'\u001B[0m \u001B[0;32mif\u001B[0m \u001B[0misComplexType\u001B[0m\u001B[0;34m(\u001B[0m\u001B[0mt\u001B[0m\u001B[0;34m)\u001B[0m \u001B[0;32melse\u001B[0m \u001B[0;34m'd->d'\u001B[0m\u001B[0;34m\u001B[0m\u001B[0;34m\u001B[0m\u001B[0m\n\u001B[1;32m    544\u001B[0m     \u001B[0mextobj\u001B[0m \u001B[0;34m=\u001B[0m \u001B[0mget_linalg_error_extobj\u001B[0m\u001B[0;34m(\u001B[0m\u001B[0m_raise_linalgerror_singular\u001B[0m\u001B[0;34m)\u001B[0m\u001B[0;34m\u001B[0m\u001B[0;34m\u001B[0m\u001B[0m\n\u001B[0;32m--> 545\u001B[0;31m     \u001B[0mainv\u001B[0m \u001B[0;34m=\u001B[0m \u001B[0m_umath_linalg\u001B[0m\u001B[0;34m.\u001B[0m\u001B[0minv\u001B[0m\u001B[0;34m(\u001B[0m\u001B[0ma\u001B[0m\u001B[0;34m,\u001B[0m \u001B[0msignature\u001B[0m\u001B[0;34m=\u001B[0m\u001B[0msignature\u001B[0m\u001B[0;34m,\u001B[0m \u001B[0mextobj\u001B[0m\u001B[0;34m=\u001B[0m\u001B[0mextobj\u001B[0m\u001B[0;34m)\u001B[0m\u001B[0;34m\u001B[0m\u001B[0;34m\u001B[0m\u001B[0m\n\u001B[0m\u001B[1;32m    546\u001B[0m     \u001B[0;32mreturn\u001B[0m \u001B[0mwrap\u001B[0m\u001B[0;34m(\u001B[0m\u001B[0mainv\u001B[0m\u001B[0;34m.\u001B[0m\u001B[0mastype\u001B[0m\u001B[0;34m(\u001B[0m\u001B[0mresult_t\u001B[0m\u001B[0;34m,\u001B[0m \u001B[0mcopy\u001B[0m\u001B[0;34m=\u001B[0m\u001B[0;32mFalse\u001B[0m\u001B[0;34m)\u001B[0m\u001B[0;34m)\u001B[0m\u001B[0;34m\u001B[0m\u001B[0;34m\u001B[0m\u001B[0m\n\u001B[1;32m    547\u001B[0m \u001B[0;34m\u001B[0m\u001B[0m\n",
      "\u001B[0;32m~/opt/anaconda3/lib/python3.9/site-packages/numpy/linalg/linalg.py\u001B[0m in \u001B[0;36m_raise_linalgerror_singular\u001B[0;34m(err, flag)\u001B[0m\n\u001B[1;32m     86\u001B[0m \u001B[0;34m\u001B[0m\u001B[0m\n\u001B[1;32m     87\u001B[0m \u001B[0;32mdef\u001B[0m \u001B[0m_raise_linalgerror_singular\u001B[0m\u001B[0;34m(\u001B[0m\u001B[0merr\u001B[0m\u001B[0;34m,\u001B[0m \u001B[0mflag\u001B[0m\u001B[0;34m)\u001B[0m\u001B[0;34m:\u001B[0m\u001B[0;34m\u001B[0m\u001B[0;34m\u001B[0m\u001B[0m\n\u001B[0;32m---> 88\u001B[0;31m     \u001B[0;32mraise\u001B[0m \u001B[0mLinAlgError\u001B[0m\u001B[0;34m(\u001B[0m\u001B[0;34m\"Singular matrix\"\u001B[0m\u001B[0;34m)\u001B[0m\u001B[0;34m\u001B[0m\u001B[0;34m\u001B[0m\u001B[0m\n\u001B[0m\u001B[1;32m     89\u001B[0m \u001B[0;34m\u001B[0m\u001B[0m\n\u001B[1;32m     90\u001B[0m \u001B[0;32mdef\u001B[0m \u001B[0m_raise_linalgerror_nonposdef\u001B[0m\u001B[0;34m(\u001B[0m\u001B[0merr\u001B[0m\u001B[0;34m,\u001B[0m \u001B[0mflag\u001B[0m\u001B[0;34m)\u001B[0m\u001B[0;34m:\u001B[0m\u001B[0;34m\u001B[0m\u001B[0;34m\u001B[0m\u001B[0m\n",
      "\u001B[0;31mLinAlgError\u001B[0m: Singular matrix"
     ]
    }
   ],
   "source": [
    "count = 0\n",
    "delta = float('inf')\n",
    "epsilon = 0.000000001\n",
    "max_it = 100\n",
    "det = np.array([0])\n",
    "\n",
    "while (delta >= epsilon) & (count < max_it):\n",
    "    if count%2==0:\n",
    "        # add\n",
    "        varmax = find_best_candidate(data=X, inverse_mat=calculate_inv_mat(X))\n",
    "        # add the best candidate experiment\n",
    "        X = X.append(varmax)\n",
    "        # drop the best candidate experiment from the candidate set\n",
    "        drop_row = np.equal(candidate, np.asarray(varmax)).all(1) # find row where all elements are equal to the varmax\n",
    "        candidate.drop(candidate.index[np.where(drop_row)[0]], inplace=True) # drop that row\n",
    "    else:\n",
    "        # remove\n",
    "        varmin = find_worst_experiment(data=X, inverse_mat=calculate_inv_mat(X))\n",
    "        # drop the worst experiment from X\n",
    "        drop_row = np.equal(X, np.asarray(varmin)).all(1)\n",
    "        X.drop(X.index[np.where(drop_row)[0]], inplace=True)\n",
    "    print(count, X.shape)\n",
    "    det_end = np.linalg.det(X.T @ X)\n",
    "    # print(count, det_end)\n",
    "    delta = abs(X.shape[1]**X.shape[1]-det_end)\n",
    "    # print(count, delta)\n",
    "    np.append(det, det_end)\n",
    "    count+=1"
   ]
  },
  {
   "cell_type": "code",
   "execution_count": null,
   "outputs": [],
   "source": [
    "X"
   ],
   "metadata": {
    "collapsed": false,
    "pycharm": {
     "name": "#%%\n"
    }
   }
  },
  {
   "cell_type": "code",
   "execution_count": null,
   "outputs": [],
   "source": [
    "X.T @ X"
   ],
   "metadata": {
    "collapsed": false,
    "pycharm": {
     "name": "#%%\n"
    }
   }
  },
  {
   "cell_type": "code",
   "execution_count": null,
   "outputs": [],
   "source": [],
   "metadata": {
    "collapsed": false,
    "pycharm": {
     "name": "#%%\n"
    }
   }
  }
 ],
 "metadata": {
  "kernelspec": {
   "display_name": "Python 3 (ipykernel)",
   "language": "python",
   "name": "python3"
  },
  "language_info": {
   "codemirror_mode": {
    "name": "ipython",
    "version": 3
   },
   "file_extension": ".py",
   "mimetype": "text/x-python",
   "name": "python",
   "nbconvert_exporter": "python",
   "pygments_lexer": "ipython3",
   "version": "3.9.7"
  }
 },
 "nbformat": 4,
 "nbformat_minor": 4
}