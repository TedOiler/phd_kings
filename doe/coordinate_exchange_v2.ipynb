{
 "cells": [
  {
   "cell_type": "code",
   "execution_count": 393,
   "metadata": {
    "collapsed": true
   },
   "outputs": [],
   "source": [
    "import numpy as np\n",
    "import pandas as pd"
   ]
  },
  {
   "cell_type": "code",
   "execution_count": 394,
   "outputs": [],
   "source": [
    "def rand_design_matrix(experiments, features) -> pd.DataFrame:\n",
    "    \"\"\"\n",
    "    :param int experiments: Number of Experiments to design\n",
    "    :param int features: Number of features to include in the design\n",
    "\n",
    "\n",
    "    Generate a random starting design matrix\n",
    "    \"\"\"\n",
    "    df = pd.DataFrame(np.random.random((experiments, features)))\n",
    "    df.columns = ['x' + str(x) for x in list(range(features))]\n",
    "    return df"
   ],
   "metadata": {
    "collapsed": false,
    "pycharm": {
     "name": "#%%\n"
    }
   }
  },
  {
   "cell_type": "code",
   "execution_count": 395,
   "outputs": [],
   "source": [
    "def get_model_matrix(data, order, interactions_only=False, bias=True) -> pd.DataFrame:\n",
    "    \"\"\"\n",
    "    :param pd.DataFrame data: Design matrix\n",
    "    :param int order: Order of the polynomial (1-main effects, 2-quadratic effects, ...)\n",
    "    :param bool interactions_only: Include terms as x1^2 or not\n",
    "    :param bool bias: Include a beta_0 on the design matrix or not\n",
    "\n",
    "\n",
    "    Generate the model matrix of a design matrix (argument)\n",
    "    \"\"\"\n",
    "    from sklearn.preprocessing import PolynomialFeatures\n",
    "\n",
    "    poly = PolynomialFeatures(order, interaction_only=interactions_only, include_bias=bias)\n",
    "    df = pd.DataFrame(poly.fit_transform(data))\n",
    "    df.columns=poly.get_feature_names(data.columns)\n",
    "    return df"
   ],
   "metadata": {
    "collapsed": false,
    "pycharm": {
     "name": "#%%\n"
    }
   }
  },
  {
   "cell_type": "code",
   "execution_count": 396,
   "outputs": [],
   "source": [
    "def cr_det(design, row, col, count, levels, model_order, interactions_only, bias, coordinate_cr):\n",
    "    \"\"\"\n",
    "    :param pd.DataFrame design: Design matrix of the experiment\n",
    "    :param int row: Row for coordinate to change in the design matrix\n",
    "    :param int col: Col for coordinate to change in the design matrix\n",
    "    :param int count:\n",
    "    :param list levels: Levels of factors\n",
    "    :param int model_order:\n",
    "    :param bool interactions_only:\n",
    "    :param bool bias:\n",
    "    :param list coordinate_cr:\n",
    "\n",
    "\n",
    "    \"\"\"\n",
    "\n",
    "    # run optimality criterion\n",
    "    design.iat[row, col] = levels[count] # change the design matrix to each level element\n",
    "    model_matrix = get_model_matrix(data=design, order=model_order, interactions_only=interactions_only, bias=bias) # calculate the design matrix\n",
    "    det = np.linalg.det(model_matrix.T @ model_matrix) # calculate the determinant\n",
    "    coordinate_cr.append(det) # write result on a list to find the max (and most importantly the max position)\n",
    "\n",
    "    return design, coordinate_cr"
   ],
   "metadata": {
    "collapsed": false,
    "pycharm": {
     "name": "#%%\n"
    }
   }
  },
  {
   "cell_type": "code",
   "execution_count": 397,
   "outputs": [],
   "source": [
    "def update_design_matrix(design, row, col, levels, coordinate_opt_cr):\n",
    "    \"\"\"\n",
    "    :param pd.DataFrame design: Design matrix of the experiment\n",
    "    :param int row: Row for coordinate to change in the design matrix\n",
    "    :param int col: Col for coordinate to change in the design matrix\n",
    "    :param list levels: Levels of factors\n",
    "    :param list coordinate_opt_cr: list of the optimality criterion for the specific coordinate\n",
    "\n",
    "    Update the row (row) and the column (col) of the design matrix according to the criterion input by the user.\n",
    "    \"\"\"\n",
    "\n",
    "    design.iat[row, col] = levels[coordinate_opt_cr.index(max(coordinate_opt_cr))] # change the design matrix[row, col] element to the element of levels at the max position\n",
    "    return design"
   ],
   "metadata": {
    "collapsed": false,
    "pycharm": {
     "name": "#%%\n"
    }
   }
  },
  {
   "cell_type": "code",
   "execution_count": 402,
   "outputs": [],
   "source": [
    "def clear_histories(design, epoch, all_opt_cr, max_bool=True):\n",
    "    \"\"\"\n",
    "    :param pd.DataFrame design: Number of Experiments to design\n",
    "    :param int epochs: Number of random start to check\n",
    "    :param list all_opt_cr: Levels of factors\n",
    "    :param function extremum: min or max, according to the nature of the optimality criterion\n",
    "    :param bool max_bool: Should the criterion be maximized (True) or minimizes (False)?\n",
    "\n",
    "    Run the coordinate exchange algorithm and produce the best model matrix, according to the criterion chosen, as well as a history of all other possible model matrices and the history of the selected criterion used.\n",
    "    \"\"\"\n",
    "    designs, histories = pd.DataFrame(), pd.DataFrame()\n",
    "    design['epoch'] = epoch\n",
    "    history = pd.DataFrame(all_opt_cr)\n",
    "    if max_bool:\n",
    "        history['max'] = history.iloc[:,2:].max(axis=1)\n",
    "    else:\n",
    "        history['min'] = history.iloc[:,2:].min(axis=1)\n",
    "\n",
    "    history['epoch'] = epoch\n",
    "    designs = designs.append(design, ignore_index=True)\n",
    "    histories = histories.append(history, ignore_index=True)\n",
    "\n",
    "    return designs, histories"
   ],
   "metadata": {
    "collapsed": false,
    "pycharm": {
     "name": "#%%\n"
    }
   }
  },
  {
   "cell_type": "code",
   "execution_count": 407,
   "outputs": [],
   "source": [
    "def get_best_design(histories, designs, max_bool):\n",
    "    \"\"\"\n",
    "    :param pd.DataFrame histories: Dataframe of all the histories per epoch\n",
    "    :param pd.DataFrame designs: Dataframe of all the designs per epoch\n",
    "    :param bool max_bool: Should the criterion be maximized (True) or minimizes (False)?\n",
    "\n",
    "    Group the histories per epoch and getting the max. Then, the function uses that max index (best epoch) to retrieve the design of that epoch and save it as the best design.\n",
    "    The function also changes behaviour according to the max_bool flag which is used to tell the function if we are searching for a maximum of a minimum.\n",
    "    \"\"\"\n",
    "    if max_bool:\n",
    "        per_epoch = histories.groupby('epoch')['max'].max()\n",
    "        best_design = designs[designs['epoch']==per_epoch.idxmax()].reset_index().iloc[:,1:-1]\n",
    "    else:\n",
    "        per_epoch = histories.groupby('epoch')['min'].min()\n",
    "        best_design = designs[designs['epoch']==per_epoch.idxmin()].reset_index().iloc[:,1:-1]\n",
    "\n",
    "    return best_design"
   ],
   "metadata": {
    "collapsed": false,
    "pycharm": {
     "name": "#%%\n"
    }
   }
  },
  {
   "cell_type": "code",
   "execution_count": 415,
   "outputs": [],
   "source": [
    "def coordinate_exchange(experiments, features, epochs, levels, model_order, interactions_only=False, bias=True, criterion=cr_det, max_bool=True) -> tuple:\n",
    "    \"\"\"\n",
    "    :param int experiments: Number of Experiments to design\n",
    "    :param int features: Number of features to include in the design\n",
    "    :param int epochs: Number of random start to check\n",
    "    :param list levels: Levels of factors\n",
    "    :param int model_order: Order of the polynomial (1-main effects, 2-quadratic effects, ...)\n",
    "    :param bool interactions_only: Include terms as x1^2 or not\n",
    "    :param bool bias: Include a beta_0 on the design matrix or not\n",
    "    :param function criterion: What criterion to use for maximization. Includes (cr_det, ...)\n",
    "    :param bool max_bool: Should the criterion be maximized (True) or minimizes (False)?\n",
    "\n",
    "    Run the coordinate exchange algorithm and produce the best model matrix, according to the criterion chosen, as well as a history of all other possible model matrices and the history of the selected criterion used.\n",
    "    \"\"\"\n",
    "\n",
    "    all_opt_cr = [] # used to feel the data for each level.\n",
    "\n",
    "    for epoch in range(epochs):\n",
    "        design_matrix = rand_design_matrix(experiments=experiments, features=features) # create a random starting design for each epoch\n",
    "        for row in range(experiments):\n",
    "            for col in range(features):\n",
    "                coordinate_opt_cr = []\n",
    "                for count, level in enumerate(levels):\n",
    "                    # run optimality criterion\n",
    "                    design_matrix, coordinate_opt_cr = criterion(design=design_matrix,\n",
    "                                                                 row=row, col=col, count=count,\n",
    "                                                                 levels=levels,\n",
    "                                                                 model_order=model_order,\n",
    "                                                                 interactions_only=interactions_only,\n",
    "                                                                 bias=bias,\n",
    "                                                                 coordinate_cr=coordinate_opt_cr)\n",
    "\n",
    "                # write results on loops\n",
    "                all_opt_cr.append([row, col, *coordinate_opt_cr]) # keep entire history (unpack the coordinate_det to make all_dets a pd.DataFrame)\n",
    "                design_matrix = update_design_matrix(design=design_matrix, row=row, col=col, levels=levels, coordinate_opt_cr=coordinate_opt_cr)\n",
    "\n",
    "        # clear results of loop\n",
    "        designs, histories = clear_histories(design, epoch=epoch, all_opt_cr=all_opt_cr, max_bool=max_bool)\n",
    "\n",
    "    # return best design\n",
    "    best_design = get_best_design(histories=histories, designs=designs, max_bool=max_bool)\n",
    "\n",
    "    # find best model matrix according to best design matrix\n",
    "    model_matrix = get_model_matrix(data=best_design, order=model_order, interactions_only=False, bias=True)\n",
    "\n",
    "    return model_matrix, best_design, designs, histories"
   ],
   "metadata": {
    "collapsed": false,
    "pycharm": {
     "name": "#%%\n"
    }
   }
  },
  {
   "cell_type": "code",
   "execution_count": 416,
   "outputs": [],
   "source": [
    "model, design, design_hist, optimality_hist = coordinate_exchange(experiments=15,\n",
    "                                                                  features=5,\n",
    "                                                                  epochs=1000,\n",
    "                                                                  levels=[-1.0, -0.5, 0.0, 0.5, 1.0],\n",
    "                                                                  model_order=2,\n",
    "                                                                  interactions_only=False,\n",
    "                                                                  bias=True)"
   ],
   "metadata": {
    "collapsed": false,
    "pycharm": {
     "name": "#%%\n"
    }
   }
  },
  {
   "cell_type": "code",
   "execution_count": 417,
   "outputs": [
    {
     "data": {
      "text/plain": "     x0   x1   x2   x3\n0   1.0 -1.0  0.0  1.0\n1   1.0 -1.0 -1.0 -1.0\n2   0.0  1.0  0.0  0.0\n3   0.0 -1.0 -1.0  1.0\n4   1.0  0.0  1.0 -1.0\n5  -1.0  1.0  1.0  1.0\n6  -1.0  1.0 -1.0  0.0\n7  -1.0  1.0  1.0 -1.0\n8  -1.0  1.0 -1.0 -1.0\n9   0.0  0.0  1.0  0.0\n10  1.0  1.0  1.0  1.0\n11  1.0 -1.0  1.0  1.0",
      "text/html": "<div>\n<style scoped>\n    .dataframe tbody tr th:only-of-type {\n        vertical-align: middle;\n    }\n\n    .dataframe tbody tr th {\n        vertical-align: top;\n    }\n\n    .dataframe thead th {\n        text-align: right;\n    }\n</style>\n<table border=\"1\" class=\"dataframe\">\n  <thead>\n    <tr style=\"text-align: right;\">\n      <th></th>\n      <th>x0</th>\n      <th>x1</th>\n      <th>x2</th>\n      <th>x3</th>\n    </tr>\n  </thead>\n  <tbody>\n    <tr>\n      <th>0</th>\n      <td>1.0</td>\n      <td>-1.0</td>\n      <td>0.0</td>\n      <td>1.0</td>\n    </tr>\n    <tr>\n      <th>1</th>\n      <td>1.0</td>\n      <td>-1.0</td>\n      <td>-1.0</td>\n      <td>-1.0</td>\n    </tr>\n    <tr>\n      <th>2</th>\n      <td>0.0</td>\n      <td>1.0</td>\n      <td>0.0</td>\n      <td>0.0</td>\n    </tr>\n    <tr>\n      <th>3</th>\n      <td>0.0</td>\n      <td>-1.0</td>\n      <td>-1.0</td>\n      <td>1.0</td>\n    </tr>\n    <tr>\n      <th>4</th>\n      <td>1.0</td>\n      <td>0.0</td>\n      <td>1.0</td>\n      <td>-1.0</td>\n    </tr>\n    <tr>\n      <th>5</th>\n      <td>-1.0</td>\n      <td>1.0</td>\n      <td>1.0</td>\n      <td>1.0</td>\n    </tr>\n    <tr>\n      <th>6</th>\n      <td>-1.0</td>\n      <td>1.0</td>\n      <td>-1.0</td>\n      <td>0.0</td>\n    </tr>\n    <tr>\n      <th>7</th>\n      <td>-1.0</td>\n      <td>1.0</td>\n      <td>1.0</td>\n      <td>-1.0</td>\n    </tr>\n    <tr>\n      <th>8</th>\n      <td>-1.0</td>\n      <td>1.0</td>\n      <td>-1.0</td>\n      <td>-1.0</td>\n    </tr>\n    <tr>\n      <th>9</th>\n      <td>0.0</td>\n      <td>0.0</td>\n      <td>1.0</td>\n      <td>0.0</td>\n    </tr>\n    <tr>\n      <th>10</th>\n      <td>1.0</td>\n      <td>1.0</td>\n      <td>1.0</td>\n      <td>1.0</td>\n    </tr>\n    <tr>\n      <th>11</th>\n      <td>1.0</td>\n      <td>-1.0</td>\n      <td>1.0</td>\n      <td>1.0</td>\n    </tr>\n  </tbody>\n</table>\n</div>"
     },
     "execution_count": 417,
     "metadata": {},
     "output_type": "execute_result"
    }
   ],
   "source": [
    "design"
   ],
   "metadata": {
    "collapsed": false,
    "pycharm": {
     "name": "#%%\n"
    }
   }
  },
  {
   "cell_type": "code",
   "execution_count": 422,
   "outputs": [
    {
     "data": {
      "text/plain": "          1   x0    x1    x2   x3  x0^2  x0 x1  x0 x2  x0 x3  x1^2  x1 x2  \\\n1      12.0  1.0   2.0   2.0  1.0   9.0   -6.0    2.0    2.0  10.0    2.0   \nx0      1.0  9.0  -6.0   2.0  2.0   1.0    2.0    2.0    0.0   0.0    1.0   \nx1      2.0 -6.0  10.0   2.0 -2.0   2.0    0.0    1.0    1.0   2.0    0.0   \nx2      2.0  2.0   2.0  10.0  2.0   2.0    1.0    0.0    1.0   0.0    2.0   \nx3      1.0  2.0  -2.0   2.0  9.0   0.0    1.0    1.0    2.0   2.0    1.0   \nx0^2    9.0  1.0   2.0   2.0  0.0   9.0   -6.0    2.0    2.0   8.0    1.0   \nx0 x1  -6.0  2.0   0.0   1.0  1.0  -6.0    8.0    1.0   -1.0  -6.0    1.0   \nx0 x2   2.0  2.0   1.0   0.0  1.0   2.0    1.0    8.0    3.0   1.0   -5.0   \nx0 x3   2.0  0.0   1.0   1.0  2.0   2.0   -1.0    3.0    8.0   3.0   -2.0   \nx1^2   10.0  0.0   2.0   0.0  2.0   8.0   -6.0    1.0    3.0  10.0    2.0   \nx1 x2   2.0  1.0   0.0   2.0  1.0   1.0    1.0   -5.0   -2.0   2.0    8.0   \nx1 x3  -2.0  1.0   2.0   1.0  0.0  -1.0    3.0   -2.0   -5.0  -2.0    3.0   \nx2^2   10.0  0.0   2.0   2.0  0.0   8.0   -5.0    2.0    1.0   8.0    2.0   \nx2 x3   2.0  1.0   1.0   0.0  2.0   3.0   -2.0    1.0    1.0   3.0   -1.0   \nx3^2    9.0  2.0   0.0   2.0  1.0   8.0   -5.0    1.0    2.0   8.0    3.0   \n\n       x1 x3  x2^2  x2 x3  x3^2  \n1       -2.0  10.0    2.0   9.0  \nx0       1.0   0.0    1.0   2.0  \nx1       2.0   2.0    1.0   0.0  \nx2       1.0   2.0    0.0   2.0  \nx3       0.0   0.0    2.0   1.0  \nx0^2    -1.0   8.0    3.0   8.0  \nx0 x1    3.0  -5.0   -2.0  -5.0  \nx0 x2   -2.0   2.0    1.0   1.0  \nx0 x3   -5.0   1.0    1.0   2.0  \nx1^2    -2.0   8.0    3.0   8.0  \nx1 x2    3.0   2.0   -1.0   3.0  \nx1 x3    8.0  -1.0    3.0  -2.0  \nx2^2    -1.0  10.0    2.0   8.0  \nx2 x3    3.0   2.0    8.0   2.0  \nx3^2    -2.0   8.0    2.0   9.0  ",
      "text/html": "<div>\n<style scoped>\n    .dataframe tbody tr th:only-of-type {\n        vertical-align: middle;\n    }\n\n    .dataframe tbody tr th {\n        vertical-align: top;\n    }\n\n    .dataframe thead th {\n        text-align: right;\n    }\n</style>\n<table border=\"1\" class=\"dataframe\">\n  <thead>\n    <tr style=\"text-align: right;\">\n      <th></th>\n      <th>1</th>\n      <th>x0</th>\n      <th>x1</th>\n      <th>x2</th>\n      <th>x3</th>\n      <th>x0^2</th>\n      <th>x0 x1</th>\n      <th>x0 x2</th>\n      <th>x0 x3</th>\n      <th>x1^2</th>\n      <th>x1 x2</th>\n      <th>x1 x3</th>\n      <th>x2^2</th>\n      <th>x2 x3</th>\n      <th>x3^2</th>\n    </tr>\n  </thead>\n  <tbody>\n    <tr>\n      <th>1</th>\n      <td>12.0</td>\n      <td>1.0</td>\n      <td>2.0</td>\n      <td>2.0</td>\n      <td>1.0</td>\n      <td>9.0</td>\n      <td>-6.0</td>\n      <td>2.0</td>\n      <td>2.0</td>\n      <td>10.0</td>\n      <td>2.0</td>\n      <td>-2.0</td>\n      <td>10.0</td>\n      <td>2.0</td>\n      <td>9.0</td>\n    </tr>\n    <tr>\n      <th>x0</th>\n      <td>1.0</td>\n      <td>9.0</td>\n      <td>-6.0</td>\n      <td>2.0</td>\n      <td>2.0</td>\n      <td>1.0</td>\n      <td>2.0</td>\n      <td>2.0</td>\n      <td>0.0</td>\n      <td>0.0</td>\n      <td>1.0</td>\n      <td>1.0</td>\n      <td>0.0</td>\n      <td>1.0</td>\n      <td>2.0</td>\n    </tr>\n    <tr>\n      <th>x1</th>\n      <td>2.0</td>\n      <td>-6.0</td>\n      <td>10.0</td>\n      <td>2.0</td>\n      <td>-2.0</td>\n      <td>2.0</td>\n      <td>0.0</td>\n      <td>1.0</td>\n      <td>1.0</td>\n      <td>2.0</td>\n      <td>0.0</td>\n      <td>2.0</td>\n      <td>2.0</td>\n      <td>1.0</td>\n      <td>0.0</td>\n    </tr>\n    <tr>\n      <th>x2</th>\n      <td>2.0</td>\n      <td>2.0</td>\n      <td>2.0</td>\n      <td>10.0</td>\n      <td>2.0</td>\n      <td>2.0</td>\n      <td>1.0</td>\n      <td>0.0</td>\n      <td>1.0</td>\n      <td>0.0</td>\n      <td>2.0</td>\n      <td>1.0</td>\n      <td>2.0</td>\n      <td>0.0</td>\n      <td>2.0</td>\n    </tr>\n    <tr>\n      <th>x3</th>\n      <td>1.0</td>\n      <td>2.0</td>\n      <td>-2.0</td>\n      <td>2.0</td>\n      <td>9.0</td>\n      <td>0.0</td>\n      <td>1.0</td>\n      <td>1.0</td>\n      <td>2.0</td>\n      <td>2.0</td>\n      <td>1.0</td>\n      <td>0.0</td>\n      <td>0.0</td>\n      <td>2.0</td>\n      <td>1.0</td>\n    </tr>\n    <tr>\n      <th>x0^2</th>\n      <td>9.0</td>\n      <td>1.0</td>\n      <td>2.0</td>\n      <td>2.0</td>\n      <td>0.0</td>\n      <td>9.0</td>\n      <td>-6.0</td>\n      <td>2.0</td>\n      <td>2.0</td>\n      <td>8.0</td>\n      <td>1.0</td>\n      <td>-1.0</td>\n      <td>8.0</td>\n      <td>3.0</td>\n      <td>8.0</td>\n    </tr>\n    <tr>\n      <th>x0 x1</th>\n      <td>-6.0</td>\n      <td>2.0</td>\n      <td>0.0</td>\n      <td>1.0</td>\n      <td>1.0</td>\n      <td>-6.0</td>\n      <td>8.0</td>\n      <td>1.0</td>\n      <td>-1.0</td>\n      <td>-6.0</td>\n      <td>1.0</td>\n      <td>3.0</td>\n      <td>-5.0</td>\n      <td>-2.0</td>\n      <td>-5.0</td>\n    </tr>\n    <tr>\n      <th>x0 x2</th>\n      <td>2.0</td>\n      <td>2.0</td>\n      <td>1.0</td>\n      <td>0.0</td>\n      <td>1.0</td>\n      <td>2.0</td>\n      <td>1.0</td>\n      <td>8.0</td>\n      <td>3.0</td>\n      <td>1.0</td>\n      <td>-5.0</td>\n      <td>-2.0</td>\n      <td>2.0</td>\n      <td>1.0</td>\n      <td>1.0</td>\n    </tr>\n    <tr>\n      <th>x0 x3</th>\n      <td>2.0</td>\n      <td>0.0</td>\n      <td>1.0</td>\n      <td>1.0</td>\n      <td>2.0</td>\n      <td>2.0</td>\n      <td>-1.0</td>\n      <td>3.0</td>\n      <td>8.0</td>\n      <td>3.0</td>\n      <td>-2.0</td>\n      <td>-5.0</td>\n      <td>1.0</td>\n      <td>1.0</td>\n      <td>2.0</td>\n    </tr>\n    <tr>\n      <th>x1^2</th>\n      <td>10.0</td>\n      <td>0.0</td>\n      <td>2.0</td>\n      <td>0.0</td>\n      <td>2.0</td>\n      <td>8.0</td>\n      <td>-6.0</td>\n      <td>1.0</td>\n      <td>3.0</td>\n      <td>10.0</td>\n      <td>2.0</td>\n      <td>-2.0</td>\n      <td>8.0</td>\n      <td>3.0</td>\n      <td>8.0</td>\n    </tr>\n    <tr>\n      <th>x1 x2</th>\n      <td>2.0</td>\n      <td>1.0</td>\n      <td>0.0</td>\n      <td>2.0</td>\n      <td>1.0</td>\n      <td>1.0</td>\n      <td>1.0</td>\n      <td>-5.0</td>\n      <td>-2.0</td>\n      <td>2.0</td>\n      <td>8.0</td>\n      <td>3.0</td>\n      <td>2.0</td>\n      <td>-1.0</td>\n      <td>3.0</td>\n    </tr>\n    <tr>\n      <th>x1 x3</th>\n      <td>-2.0</td>\n      <td>1.0</td>\n      <td>2.0</td>\n      <td>1.0</td>\n      <td>0.0</td>\n      <td>-1.0</td>\n      <td>3.0</td>\n      <td>-2.0</td>\n      <td>-5.0</td>\n      <td>-2.0</td>\n      <td>3.0</td>\n      <td>8.0</td>\n      <td>-1.0</td>\n      <td>3.0</td>\n      <td>-2.0</td>\n    </tr>\n    <tr>\n      <th>x2^2</th>\n      <td>10.0</td>\n      <td>0.0</td>\n      <td>2.0</td>\n      <td>2.0</td>\n      <td>0.0</td>\n      <td>8.0</td>\n      <td>-5.0</td>\n      <td>2.0</td>\n      <td>1.0</td>\n      <td>8.0</td>\n      <td>2.0</td>\n      <td>-1.0</td>\n      <td>10.0</td>\n      <td>2.0</td>\n      <td>8.0</td>\n    </tr>\n    <tr>\n      <th>x2 x3</th>\n      <td>2.0</td>\n      <td>1.0</td>\n      <td>1.0</td>\n      <td>0.0</td>\n      <td>2.0</td>\n      <td>3.0</td>\n      <td>-2.0</td>\n      <td>1.0</td>\n      <td>1.0</td>\n      <td>3.0</td>\n      <td>-1.0</td>\n      <td>3.0</td>\n      <td>2.0</td>\n      <td>8.0</td>\n      <td>2.0</td>\n    </tr>\n    <tr>\n      <th>x3^2</th>\n      <td>9.0</td>\n      <td>2.0</td>\n      <td>0.0</td>\n      <td>2.0</td>\n      <td>1.0</td>\n      <td>8.0</td>\n      <td>-5.0</td>\n      <td>1.0</td>\n      <td>2.0</td>\n      <td>8.0</td>\n      <td>3.0</td>\n      <td>-2.0</td>\n      <td>8.0</td>\n      <td>2.0</td>\n      <td>9.0</td>\n    </tr>\n  </tbody>\n</table>\n</div>"
     },
     "execution_count": 422,
     "metadata": {},
     "output_type": "execute_result"
    }
   ],
   "source": [
    "model.T @ model"
   ],
   "metadata": {
    "collapsed": false,
    "pycharm": {
     "name": "#%%\n"
    }
   }
  },
  {
   "cell_type": "code",
   "execution_count": null,
   "outputs": [],
   "source": [],
   "metadata": {
    "collapsed": false,
    "pycharm": {
     "name": "#%%\n"
    }
   }
  }
 ],
 "metadata": {
  "kernelspec": {
   "display_name": "Python 3",
   "language": "python",
   "name": "python3"
  },
  "language_info": {
   "codemirror_mode": {
    "name": "ipython",
    "version": 2
   },
   "file_extension": ".py",
   "mimetype": "text/x-python",
   "name": "python",
   "nbconvert_exporter": "python",
   "pygments_lexer": "ipython2",
   "version": "2.7.6"
  }
 },
 "nbformat": 4,
 "nbformat_minor": 0
}