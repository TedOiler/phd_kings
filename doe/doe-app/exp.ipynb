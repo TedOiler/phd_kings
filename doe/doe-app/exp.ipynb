{
 "cells": [
  {
   "cell_type": "code",
   "execution_count": 63,
   "metadata": {
    "collapsed": true
   },
   "outputs": [],
   "source": [
    "import numpy as np\n",
    "from fun_doe import get_model_matrix\n",
    "import pandas as pd\n",
    "import plotly.express as px"
   ]
  },
  {
   "cell_type": "code",
   "execution_count": 112,
   "outputs": [],
   "source": [
    "X = pd.DataFrame(np.linspace(-1, 1, 50), columns=['x1'])\n",
    "XX = get_model_matrix(data=X, order=3, bias=True)"
   ],
   "metadata": {
    "collapsed": false,
    "pycharm": {
     "name": "#%%\n"
    }
   }
  },
  {
   "cell_type": "code",
   "execution_count": 117,
   "outputs": [
    {
     "data": {
      "text/plain": "      1        x1      x1^2      x1^3\n0   1.0 -1.000000  1.000000 -1.000000\n1   1.0 -0.959184  0.920033 -0.882481\n2   1.0 -0.918367  0.843399 -0.774550\n3   1.0 -0.877551  0.770096 -0.675798\n4   1.0 -0.836735  0.700125 -0.585819\n5   1.0 -0.795918  0.633486 -0.504203\n6   1.0 -0.755102  0.570179 -0.430543\n7   1.0 -0.714286  0.510204 -0.364431\n8   1.0 -0.673469  0.453561 -0.305459\n9   1.0 -0.632653  0.400250 -0.253219\n10  1.0 -0.591837  0.350271 -0.207303\n11  1.0 -0.551020  0.303623 -0.167303\n12  1.0 -0.510204  0.260308 -0.132810\n13  1.0 -0.469388  0.220325 -0.103418\n14  1.0 -0.428571  0.183673 -0.078717\n15  1.0 -0.387755  0.150354 -0.058301\n16  1.0 -0.346939  0.120367 -0.041760\n17  1.0 -0.306122  0.093711 -0.028687\n18  1.0 -0.265306  0.070387 -0.018674\n19  1.0 -0.224490  0.050396 -0.011313\n20  1.0 -0.183673  0.033736 -0.006196\n21  1.0 -0.142857  0.020408 -0.002915\n22  1.0 -0.102041  0.010412 -0.001062\n23  1.0 -0.061224  0.003748 -0.000229\n24  1.0 -0.020408  0.000416 -0.000008\n25  1.0  0.020408  0.000416  0.000008\n26  1.0  0.061224  0.003748  0.000229\n27  1.0  0.102041  0.010412  0.001062\n28  1.0  0.142857  0.020408  0.002915\n29  1.0  0.183673  0.033736  0.006196\n30  1.0  0.224490  0.050396  0.011313\n31  1.0  0.265306  0.070387  0.018674\n32  1.0  0.306122  0.093711  0.028687\n33  1.0  0.346939  0.120367  0.041760\n34  1.0  0.387755  0.150354  0.058301\n35  1.0  0.428571  0.183673  0.078717\n36  1.0  0.469388  0.220325  0.103418\n37  1.0  0.510204  0.260308  0.132810\n38  1.0  0.551020  0.303623  0.167303\n39  1.0  0.591837  0.350271  0.207303\n40  1.0  0.632653  0.400250  0.253219\n41  1.0  0.673469  0.453561  0.305459\n42  1.0  0.714286  0.510204  0.364431\n43  1.0  0.755102  0.570179  0.430543\n44  1.0  0.795918  0.633486  0.504203\n45  1.0  0.836735  0.700125  0.585819\n46  1.0  0.877551  0.770096  0.675798\n47  1.0  0.918367  0.843399  0.774550\n48  1.0  0.959184  0.920033  0.882481\n49  1.0  1.000000  1.000000  1.000000",
      "text/html": "<div>\n<style scoped>\n    .dataframe tbody tr th:only-of-type {\n        vertical-align: middle;\n    }\n\n    .dataframe tbody tr th {\n        vertical-align: top;\n    }\n\n    .dataframe thead th {\n        text-align: right;\n    }\n</style>\n<table border=\"1\" class=\"dataframe\">\n  <thead>\n    <tr style=\"text-align: right;\">\n      <th></th>\n      <th>1</th>\n      <th>x1</th>\n      <th>x1^2</th>\n      <th>x1^3</th>\n    </tr>\n  </thead>\n  <tbody>\n    <tr>\n      <th>0</th>\n      <td>1.0</td>\n      <td>-1.000000</td>\n      <td>1.000000</td>\n      <td>-1.000000</td>\n    </tr>\n    <tr>\n      <th>1</th>\n      <td>1.0</td>\n      <td>-0.959184</td>\n      <td>0.920033</td>\n      <td>-0.882481</td>\n    </tr>\n    <tr>\n      <th>2</th>\n      <td>1.0</td>\n      <td>-0.918367</td>\n      <td>0.843399</td>\n      <td>-0.774550</td>\n    </tr>\n    <tr>\n      <th>3</th>\n      <td>1.0</td>\n      <td>-0.877551</td>\n      <td>0.770096</td>\n      <td>-0.675798</td>\n    </tr>\n    <tr>\n      <th>4</th>\n      <td>1.0</td>\n      <td>-0.836735</td>\n      <td>0.700125</td>\n      <td>-0.585819</td>\n    </tr>\n    <tr>\n      <th>5</th>\n      <td>1.0</td>\n      <td>-0.795918</td>\n      <td>0.633486</td>\n      <td>-0.504203</td>\n    </tr>\n    <tr>\n      <th>6</th>\n      <td>1.0</td>\n      <td>-0.755102</td>\n      <td>0.570179</td>\n      <td>-0.430543</td>\n    </tr>\n    <tr>\n      <th>7</th>\n      <td>1.0</td>\n      <td>-0.714286</td>\n      <td>0.510204</td>\n      <td>-0.364431</td>\n    </tr>\n    <tr>\n      <th>8</th>\n      <td>1.0</td>\n      <td>-0.673469</td>\n      <td>0.453561</td>\n      <td>-0.305459</td>\n    </tr>\n    <tr>\n      <th>9</th>\n      <td>1.0</td>\n      <td>-0.632653</td>\n      <td>0.400250</td>\n      <td>-0.253219</td>\n    </tr>\n    <tr>\n      <th>10</th>\n      <td>1.0</td>\n      <td>-0.591837</td>\n      <td>0.350271</td>\n      <td>-0.207303</td>\n    </tr>\n    <tr>\n      <th>11</th>\n      <td>1.0</td>\n      <td>-0.551020</td>\n      <td>0.303623</td>\n      <td>-0.167303</td>\n    </tr>\n    <tr>\n      <th>12</th>\n      <td>1.0</td>\n      <td>-0.510204</td>\n      <td>0.260308</td>\n      <td>-0.132810</td>\n    </tr>\n    <tr>\n      <th>13</th>\n      <td>1.0</td>\n      <td>-0.469388</td>\n      <td>0.220325</td>\n      <td>-0.103418</td>\n    </tr>\n    <tr>\n      <th>14</th>\n      <td>1.0</td>\n      <td>-0.428571</td>\n      <td>0.183673</td>\n      <td>-0.078717</td>\n    </tr>\n    <tr>\n      <th>15</th>\n      <td>1.0</td>\n      <td>-0.387755</td>\n      <td>0.150354</td>\n      <td>-0.058301</td>\n    </tr>\n    <tr>\n      <th>16</th>\n      <td>1.0</td>\n      <td>-0.346939</td>\n      <td>0.120367</td>\n      <td>-0.041760</td>\n    </tr>\n    <tr>\n      <th>17</th>\n      <td>1.0</td>\n      <td>-0.306122</td>\n      <td>0.093711</td>\n      <td>-0.028687</td>\n    </tr>\n    <tr>\n      <th>18</th>\n      <td>1.0</td>\n      <td>-0.265306</td>\n      <td>0.070387</td>\n      <td>-0.018674</td>\n    </tr>\n    <tr>\n      <th>19</th>\n      <td>1.0</td>\n      <td>-0.224490</td>\n      <td>0.050396</td>\n      <td>-0.011313</td>\n    </tr>\n    <tr>\n      <th>20</th>\n      <td>1.0</td>\n      <td>-0.183673</td>\n      <td>0.033736</td>\n      <td>-0.006196</td>\n    </tr>\n    <tr>\n      <th>21</th>\n      <td>1.0</td>\n      <td>-0.142857</td>\n      <td>0.020408</td>\n      <td>-0.002915</td>\n    </tr>\n    <tr>\n      <th>22</th>\n      <td>1.0</td>\n      <td>-0.102041</td>\n      <td>0.010412</td>\n      <td>-0.001062</td>\n    </tr>\n    <tr>\n      <th>23</th>\n      <td>1.0</td>\n      <td>-0.061224</td>\n      <td>0.003748</td>\n      <td>-0.000229</td>\n    </tr>\n    <tr>\n      <th>24</th>\n      <td>1.0</td>\n      <td>-0.020408</td>\n      <td>0.000416</td>\n      <td>-0.000008</td>\n    </tr>\n    <tr>\n      <th>25</th>\n      <td>1.0</td>\n      <td>0.020408</td>\n      <td>0.000416</td>\n      <td>0.000008</td>\n    </tr>\n    <tr>\n      <th>26</th>\n      <td>1.0</td>\n      <td>0.061224</td>\n      <td>0.003748</td>\n      <td>0.000229</td>\n    </tr>\n    <tr>\n      <th>27</th>\n      <td>1.0</td>\n      <td>0.102041</td>\n      <td>0.010412</td>\n      <td>0.001062</td>\n    </tr>\n    <tr>\n      <th>28</th>\n      <td>1.0</td>\n      <td>0.142857</td>\n      <td>0.020408</td>\n      <td>0.002915</td>\n    </tr>\n    <tr>\n      <th>29</th>\n      <td>1.0</td>\n      <td>0.183673</td>\n      <td>0.033736</td>\n      <td>0.006196</td>\n    </tr>\n    <tr>\n      <th>30</th>\n      <td>1.0</td>\n      <td>0.224490</td>\n      <td>0.050396</td>\n      <td>0.011313</td>\n    </tr>\n    <tr>\n      <th>31</th>\n      <td>1.0</td>\n      <td>0.265306</td>\n      <td>0.070387</td>\n      <td>0.018674</td>\n    </tr>\n    <tr>\n      <th>32</th>\n      <td>1.0</td>\n      <td>0.306122</td>\n      <td>0.093711</td>\n      <td>0.028687</td>\n    </tr>\n    <tr>\n      <th>33</th>\n      <td>1.0</td>\n      <td>0.346939</td>\n      <td>0.120367</td>\n      <td>0.041760</td>\n    </tr>\n    <tr>\n      <th>34</th>\n      <td>1.0</td>\n      <td>0.387755</td>\n      <td>0.150354</td>\n      <td>0.058301</td>\n    </tr>\n    <tr>\n      <th>35</th>\n      <td>1.0</td>\n      <td>0.428571</td>\n      <td>0.183673</td>\n      <td>0.078717</td>\n    </tr>\n    <tr>\n      <th>36</th>\n      <td>1.0</td>\n      <td>0.469388</td>\n      <td>0.220325</td>\n      <td>0.103418</td>\n    </tr>\n    <tr>\n      <th>37</th>\n      <td>1.0</td>\n      <td>0.510204</td>\n      <td>0.260308</td>\n      <td>0.132810</td>\n    </tr>\n    <tr>\n      <th>38</th>\n      <td>1.0</td>\n      <td>0.551020</td>\n      <td>0.303623</td>\n      <td>0.167303</td>\n    </tr>\n    <tr>\n      <th>39</th>\n      <td>1.0</td>\n      <td>0.591837</td>\n      <td>0.350271</td>\n      <td>0.207303</td>\n    </tr>\n    <tr>\n      <th>40</th>\n      <td>1.0</td>\n      <td>0.632653</td>\n      <td>0.400250</td>\n      <td>0.253219</td>\n    </tr>\n    <tr>\n      <th>41</th>\n      <td>1.0</td>\n      <td>0.673469</td>\n      <td>0.453561</td>\n      <td>0.305459</td>\n    </tr>\n    <tr>\n      <th>42</th>\n      <td>1.0</td>\n      <td>0.714286</td>\n      <td>0.510204</td>\n      <td>0.364431</td>\n    </tr>\n    <tr>\n      <th>43</th>\n      <td>1.0</td>\n      <td>0.755102</td>\n      <td>0.570179</td>\n      <td>0.430543</td>\n    </tr>\n    <tr>\n      <th>44</th>\n      <td>1.0</td>\n      <td>0.795918</td>\n      <td>0.633486</td>\n      <td>0.504203</td>\n    </tr>\n    <tr>\n      <th>45</th>\n      <td>1.0</td>\n      <td>0.836735</td>\n      <td>0.700125</td>\n      <td>0.585819</td>\n    </tr>\n    <tr>\n      <th>46</th>\n      <td>1.0</td>\n      <td>0.877551</td>\n      <td>0.770096</td>\n      <td>0.675798</td>\n    </tr>\n    <tr>\n      <th>47</th>\n      <td>1.0</td>\n      <td>0.918367</td>\n      <td>0.843399</td>\n      <td>0.774550</td>\n    </tr>\n    <tr>\n      <th>48</th>\n      <td>1.0</td>\n      <td>0.959184</td>\n      <td>0.920033</td>\n      <td>0.882481</td>\n    </tr>\n    <tr>\n      <th>49</th>\n      <td>1.0</td>\n      <td>1.000000</td>\n      <td>1.000000</td>\n      <td>1.000000</td>\n    </tr>\n  </tbody>\n</table>\n</div>"
     },
     "execution_count": 117,
     "metadata": {},
     "output_type": "execute_result"
    }
   ],
   "source": [
    "XX"
   ],
   "metadata": {
    "collapsed": false,
    "pycharm": {
     "name": "#%%\n"
    }
   }
  },
  {
   "cell_type": "code",
   "execution_count": 118,
   "outputs": [],
   "source": [
    "w = pd.DataFrame([3, 1 ,0.9, 1], index=XX.columns)"
   ],
   "metadata": {
    "collapsed": false,
    "pycharm": {
     "name": "#%%\n"
    }
   }
  },
  {
   "cell_type": "code",
   "execution_count": 119,
   "outputs": [
    {
     "data": {
      "text/plain": "<AxesSubplot:>"
     },
     "execution_count": 119,
     "metadata": {},
     "output_type": "execute_result"
    },
    {
     "data": {
      "text/plain": "<Figure size 432x288 with 1 Axes>",
      "image/png": "[encoded data removed]"
     },
     "metadata": {
      "needs_background": "light"
     },
     "output_type": "display_data"
    }
   ],
   "source": [
    "(XX @ w).plot()"
   ],
   "metadata": {
    "collapsed": false,
    "pycharm": {
     "name": "#%%\n"
    }
   }
  },
  {
   "cell_type": "code",
   "execution_count": 161,
   "outputs": [],
   "source": [
    "import sympy as smp"
   ],
   "metadata": {
    "collapsed": false,
    "pycharm": {
     "name": "#%%\n"
    }
   }
  },
  {
   "cell_type": "code",
   "execution_count": 166,
   "outputs": [],
   "source": [
    "t, T = smp.symbols('t, T')"
   ],
   "metadata": {
    "collapsed": false,
    "pycharm": {
     "name": "#%%\n"
    }
   }
  },
  {
   "cell_type": "markdown",
   "source": [
    "### Expression"
   ],
   "metadata": {
    "collapsed": false,
    "pycharm": {
     "name": "#%% md\n"
    }
   }
  },
  {
   "cell_type": "code",
   "execution_count": 244,
   "outputs": [],
   "source": [
    "c_t = t**0 + t**1 + t**2\n",
    "b_t = t**0 + t**1\n",
    "step = smp.Piecewise((1, t < 0.3), (2, t < 0.5), (0, True))"
   ],
   "metadata": {
    "collapsed": false,
    "pycharm": {
     "name": "#%%\n"
    }
   }
  },
  {
   "cell_type": "code",
   "execution_count": 245,
   "outputs": [],
   "source": [
    "scaling = smp.integrate(c_t*b_t, (t, 0, T)).subs(T, 1)"
   ],
   "metadata": {
    "collapsed": false,
    "pycharm": {
     "name": "#%%\n"
    }
   }
  },
  {
   "cell_type": "code",
   "execution_count": 246,
   "outputs": [],
   "source": [
    "J_gcb = np.array([\n",
    "    [1,-1, 1],\n",
    "    [1,-1, 1],\n",
    "    [-1,-1, 1],\n",
    "    [1,-1, 1],\n",
    "    [1,0, 1],\n",
    "])\n",
    "Z = np.matrix(np.append(np.ones((J_gcb.shape[0],1)), J_gcb * scaling, axis=1), dtype=float)"
   ],
   "metadata": {
    "collapsed": false,
    "pycharm": {
     "name": "#%%\n"
    }
   }
  },
  {
   "cell_type": "code",
   "execution_count": 247,
   "outputs": [
    {
     "data": {
      "text/plain": "-4.4993051636947895e-12"
     },
     "execution_count": 247,
     "metadata": {},
     "output_type": "execute_result"
    }
   ],
   "source": [
    "np.linalg.det(Z.T @ Z)"
   ],
   "metadata": {
    "collapsed": false,
    "pycharm": {
     "name": "#%%\n"
    }
   }
  },
  {
   "cell_type": "code",
   "execution_count": 252,
   "outputs": [
    {
     "data": {
      "text/plain": "35/12",
      "text/latex": "$\\displaystyle \\frac{35}{12}$"
     },
     "execution_count": 252,
     "metadata": {},
     "output_type": "execute_result"
    }
   ],
   "source": [
    "smp.integrate(c_t*b_t, (t, 0, T)).subs(T,1)\n",
    "print()"
   ],
   "metadata": {
    "collapsed": false,
    "pycharm": {
     "name": "#%%\n"
    }
   }
  }
 ],
 "metadata": {
  "kernelspec": {
   "display_name": "Python 3",
   "language": "python",
   "name": "python3"
  },
  "language_info": {
   "codemirror_mode": {
    "name": "ipython",
    "version": 2
   },
   "file_extension": ".py",
   "mimetype": "text/x-python",
   "name": "python",
   "nbconvert_exporter": "python",
   "pygments_lexer": "ipython2",
   "version": "2.7.6"
  }
 },
 "nbformat": 4,
 "nbformat_minor": 0
}