{
 "cells": [
  {
   "cell_type": "code",
   "execution_count": 8,
   "metadata": {
    "collapsed": true
   },
   "outputs": [],
   "source": [
    "import fun_doe as fd"
   ]
  },
  {
   "cell_type": "code",
   "execution_count": 9,
   "outputs": [],
   "source": [
    "model, design, design_hist, optimality_hist = fd.coordinate_exchange(experiments=15,\n",
    "                                                                     features=2,\n",
    "                                                                     epochs=10,\n",
    "                                                                     levels=[-1.0, 0.0, 1.0],\n",
    "                                                                     model_order=1,\n",
    "                                                                     interactions_only=False,\n",
    "                                                                     bias=True)\n",
    "\n",
    "# TODO: make the levels desecrate for each feature. Now we are assuming that all features have the same levels."
   ],
   "metadata": {
    "collapsed": false,
    "pycharm": {
     "name": "#%%\n"
    }
   }
  },
  {
   "cell_type": "code",
   "execution_count": 10,
   "outputs": [
    {
     "data": {
      "text/plain": "     x0   x1\n0  -1.0 -1.0\n1  -1.0  1.0\n2  -1.0 -1.0\n3  -1.0  1.0\n4  -1.0 -1.0\n5  -1.0  1.0\n6  -1.0 -1.0\n7   1.0 -1.0\n8  -1.0  1.0\n9   1.0 -1.0\n10  1.0  1.0\n11  1.0  1.0\n12  1.0 -1.0\n13  1.0  1.0\n14  1.0 -1.0",
      "text/html": "<div>\n<style scoped>\n    .dataframe tbody tr th:only-of-type {\n        vertical-align: middle;\n    }\n\n    .dataframe tbody tr th {\n        vertical-align: top;\n    }\n\n    .dataframe thead th {\n        text-align: right;\n    }\n</style>\n<table border=\"1\" class=\"dataframe\">\n  <thead>\n    <tr style=\"text-align: right;\">\n      <th></th>\n      <th>x0</th>\n      <th>x1</th>\n    </tr>\n  </thead>\n  <tbody>\n    <tr>\n      <th>0</th>\n      <td>-1.0</td>\n      <td>-1.0</td>\n    </tr>\n    <tr>\n      <th>1</th>\n      <td>-1.0</td>\n      <td>1.0</td>\n    </tr>\n    <tr>\n      <th>2</th>\n      <td>-1.0</td>\n      <td>-1.0</td>\n    </tr>\n    <tr>\n      <th>3</th>\n      <td>-1.0</td>\n      <td>1.0</td>\n    </tr>\n    <tr>\n      <th>4</th>\n      <td>-1.0</td>\n      <td>-1.0</td>\n    </tr>\n    <tr>\n      <th>5</th>\n      <td>-1.0</td>\n      <td>1.0</td>\n    </tr>\n    <tr>\n      <th>6</th>\n      <td>-1.0</td>\n      <td>-1.0</td>\n    </tr>\n    <tr>\n      <th>7</th>\n      <td>1.0</td>\n      <td>-1.0</td>\n    </tr>\n    <tr>\n      <th>8</th>\n      <td>-1.0</td>\n      <td>1.0</td>\n    </tr>\n    <tr>\n      <th>9</th>\n      <td>1.0</td>\n      <td>-1.0</td>\n    </tr>\n    <tr>\n      <th>10</th>\n      <td>1.0</td>\n      <td>1.0</td>\n    </tr>\n    <tr>\n      <th>11</th>\n      <td>1.0</td>\n      <td>1.0</td>\n    </tr>\n    <tr>\n      <th>12</th>\n      <td>1.0</td>\n      <td>-1.0</td>\n    </tr>\n    <tr>\n      <th>13</th>\n      <td>1.0</td>\n      <td>1.0</td>\n    </tr>\n    <tr>\n      <th>14</th>\n      <td>1.0</td>\n      <td>-1.0</td>\n    </tr>\n  </tbody>\n</table>\n</div>"
     },
     "execution_count": 10,
     "metadata": {},
     "output_type": "execute_result"
    }
   ],
   "source": [
    "design"
   ],
   "metadata": {
    "collapsed": false,
    "pycharm": {
     "name": "#%%\n"
    }
   }
  },
  {
   "cell_type": "code",
   "execution_count": 11,
   "outputs": [
    {
     "data": {
      "text/plain": "      1   x0   x1\n0   1.0 -1.0 -1.0\n1   1.0 -1.0  1.0\n2   1.0 -1.0 -1.0\n3   1.0 -1.0  1.0\n4   1.0 -1.0 -1.0\n5   1.0 -1.0  1.0\n6   1.0 -1.0 -1.0\n7   1.0  1.0 -1.0\n8   1.0 -1.0  1.0\n9   1.0  1.0 -1.0\n10  1.0  1.0  1.0\n11  1.0  1.0  1.0\n12  1.0  1.0 -1.0\n13  1.0  1.0  1.0\n14  1.0  1.0 -1.0",
      "text/html": "<div>\n<style scoped>\n    .dataframe tbody tr th:only-of-type {\n        vertical-align: middle;\n    }\n\n    .dataframe tbody tr th {\n        vertical-align: top;\n    }\n\n    .dataframe thead th {\n        text-align: right;\n    }\n</style>\n<table border=\"1\" class=\"dataframe\">\n  <thead>\n    <tr style=\"text-align: right;\">\n      <th></th>\n      <th>1</th>\n      <th>x0</th>\n      <th>x1</th>\n    </tr>\n  </thead>\n  <tbody>\n    <tr>\n      <th>0</th>\n      <td>1.0</td>\n      <td>-1.0</td>\n      <td>-1.0</td>\n    </tr>\n    <tr>\n      <th>1</th>\n      <td>1.0</td>\n      <td>-1.0</td>\n      <td>1.0</td>\n    </tr>\n    <tr>\n      <th>2</th>\n      <td>1.0</td>\n      <td>-1.0</td>\n      <td>-1.0</td>\n    </tr>\n    <tr>\n      <th>3</th>\n      <td>1.0</td>\n      <td>-1.0</td>\n      <td>1.0</td>\n    </tr>\n    <tr>\n      <th>4</th>\n      <td>1.0</td>\n      <td>-1.0</td>\n      <td>-1.0</td>\n    </tr>\n    <tr>\n      <th>5</th>\n      <td>1.0</td>\n      <td>-1.0</td>\n      <td>1.0</td>\n    </tr>\n    <tr>\n      <th>6</th>\n      <td>1.0</td>\n      <td>-1.0</td>\n      <td>-1.0</td>\n    </tr>\n    <tr>\n      <th>7</th>\n      <td>1.0</td>\n      <td>1.0</td>\n      <td>-1.0</td>\n    </tr>\n    <tr>\n      <th>8</th>\n      <td>1.0</td>\n      <td>-1.0</td>\n      <td>1.0</td>\n    </tr>\n    <tr>\n      <th>9</th>\n      <td>1.0</td>\n      <td>1.0</td>\n      <td>-1.0</td>\n    </tr>\n    <tr>\n      <th>10</th>\n      <td>1.0</td>\n      <td>1.0</td>\n      <td>1.0</td>\n    </tr>\n    <tr>\n      <th>11</th>\n      <td>1.0</td>\n      <td>1.0</td>\n      <td>1.0</td>\n    </tr>\n    <tr>\n      <th>12</th>\n      <td>1.0</td>\n      <td>1.0</td>\n      <td>-1.0</td>\n    </tr>\n    <tr>\n      <th>13</th>\n      <td>1.0</td>\n      <td>1.0</td>\n      <td>1.0</td>\n    </tr>\n    <tr>\n      <th>14</th>\n      <td>1.0</td>\n      <td>1.0</td>\n      <td>-1.0</td>\n    </tr>\n  </tbody>\n</table>\n</div>"
     },
     "execution_count": 11,
     "metadata": {},
     "output_type": "execute_result"
    }
   ],
   "source": [
    "model"
   ],
   "metadata": {
    "collapsed": false,
    "pycharm": {
     "name": "#%%\n"
    }
   }
  },
  {
   "cell_type": "code",
   "execution_count": 12,
   "outputs": [],
   "source": [
    "import pyDOE"
   ],
   "metadata": {
    "collapsed": false,
    "pycharm": {
     "name": "#%%\n"
    }
   }
  },
  {
   "cell_type": "code",
   "execution_count": 13,
   "outputs": [
    {
     "data": {
      "text/plain": "'/Users/thodorisladas/opt/anaconda3/lib/python3.9/site-packages/pyDOE/__init__.py'"
     },
     "execution_count": 13,
     "metadata": {},
     "output_type": "execute_result"
    }
   ],
   "source": [
    "pyDOE.__file__"
   ],
   "metadata": {
    "collapsed": false,
    "pycharm": {
     "name": "#%%\n"
    }
   }
  },
  {
   "cell_type": "code",
   "execution_count": null,
   "outputs": [],
   "source": [],
   "metadata": {
    "collapsed": false,
    "pycharm": {
     "name": "#%%\n"
    }
   }
  },
  {
   "cell_type": "code",
   "execution_count": 13,
   "outputs": [
    {
     "data": {
      "text/plain": "{'experiments': 12,\n 'levels': {0: [-1, 1], 1: [-1, 1]},\n 'features': 2,\n 'order': 2,\n 'interactions_only': False,\n 'bias': True,\n 'epochs': 1000,\n 'criterion': 'det'}"
     },
     "execution_count": 13,
     "metadata": {},
     "output_type": "execute_result"
    }
   ],
   "source": [
    "import dexpy as dx\n",
    "des_1 = dx.Design(experiments=12,\n",
    "                  levels={0: [-1,1], 1: [-1,1]})\n",
    "des_1.set_model(order=2, interactions_only=False, bias=True)\n",
    "des_1.set_algorithm(criterion=\"det\", epochs=1000)\n",
    "des_1.__dict__"
   ],
   "metadata": {
    "collapsed": false,
    "pycharm": {
     "name": "#%%\n"
    }
   }
  },
  {
   "cell_type": "code",
   "execution_count": null,
   "outputs": [],
   "source": [],
   "metadata": {
    "collapsed": false,
    "pycharm": {
     "name": "#%%\n"
    }
   }
  },
  {
   "cell_type": "code",
   "execution_count": 13,
   "outputs": [],
   "source": [
    "r = des_1.gen_random_design()"
   ],
   "metadata": {
    "collapsed": false,
    "pycharm": {
     "name": "#%%\n"
    }
   }
  },
  {
   "cell_type": "code",
   "execution_count": 14,
   "outputs": [],
   "source": [
    "m = des_1.gen_model_matrix(data=r)"
   ],
   "metadata": {
    "collapsed": false,
    "pycharm": {
     "name": "#%%\n"
    }
   }
  },
  {
   "cell_type": "code",
   "source": [
    "m"
   ],
   "metadata": {
    "collapsed": false,
    "pycharm": {
     "name": "#%%\n"
    }
   },
   "execution_count": 15,
   "outputs": [
    {
     "data": {
      "text/plain": "          x0        x1          x0^2     x0 x1      x1^2\n0   0.814152  0.119698  6.628437e-01  0.097452  0.014328\n1   0.647686  0.219897  4.194968e-01  0.142424  0.048355\n2   0.776383  0.159783  6.027710e-01  0.124053  0.025531\n3   0.955118  0.512363  9.122498e-01  0.489367  0.262516\n4   0.000192  0.147388  3.673173e-08  0.000028  0.021723\n5   0.946310  0.342994  8.955024e-01  0.324579  0.117645\n6   0.670783  0.403709  4.499496e-01  0.270801  0.162981\n7   0.408615  0.279751  1.669663e-01  0.114310  0.078260\n8   0.010809  0.415242  1.168413e-04  0.004488  0.172426\n9   0.356677  0.774936  1.272182e-01  0.276402  0.600526\n10  0.512512  0.355391  2.626683e-01  0.182142  0.126303\n11  0.844245  0.327283  7.127498e-01  0.276307  0.107114",
      "text/html": "<div>\n<style scoped>\n    .dataframe tbody tr th:only-of-type {\n        vertical-align: middle;\n    }\n\n    .dataframe tbody tr th {\n        vertical-align: top;\n    }\n\n    .dataframe thead th {\n        text-align: right;\n    }\n</style>\n<table border=\"1\" class=\"dataframe\">\n  <thead>\n    <tr style=\"text-align: right;\">\n      <th></th>\n      <th>x0</th>\n      <th>x1</th>\n      <th>x0^2</th>\n      <th>x0 x1</th>\n      <th>x1^2</th>\n    </tr>\n  </thead>\n  <tbody>\n    <tr>\n      <th>0</th>\n      <td>0.814152</td>\n      <td>0.119698</td>\n      <td>6.628437e-01</td>\n      <td>0.097452</td>\n      <td>0.014328</td>\n    </tr>\n    <tr>\n      <th>1</th>\n      <td>0.647686</td>\n      <td>0.219897</td>\n      <td>4.194968e-01</td>\n      <td>0.142424</td>\n      <td>0.048355</td>\n    </tr>\n    <tr>\n      <th>2</th>\n      <td>0.776383</td>\n      <td>0.159783</td>\n      <td>6.027710e-01</td>\n      <td>0.124053</td>\n      <td>0.025531</td>\n    </tr>\n    <tr>\n      <th>3</th>\n      <td>0.955118</td>\n      <td>0.512363</td>\n      <td>9.122498e-01</td>\n      <td>0.489367</td>\n      <td>0.262516</td>\n    </tr>\n    <tr>\n      <th>4</th>\n      <td>0.000192</td>\n      <td>0.147388</td>\n      <td>3.673173e-08</td>\n      <td>0.000028</td>\n      <td>0.021723</td>\n    </tr>\n    <tr>\n      <th>5</th>\n      <td>0.946310</td>\n      <td>0.342994</td>\n      <td>8.955024e-01</td>\n      <td>0.324579</td>\n      <td>0.117645</td>\n    </tr>\n    <tr>\n      <th>6</th>\n      <td>0.670783</td>\n      <td>0.403709</td>\n      <td>4.499496e-01</td>\n      <td>0.270801</td>\n      <td>0.162981</td>\n    </tr>\n    <tr>\n      <th>7</th>\n      <td>0.408615</td>\n      <td>0.279751</td>\n      <td>1.669663e-01</td>\n      <td>0.114310</td>\n      <td>0.078260</td>\n    </tr>\n    <tr>\n      <th>8</th>\n      <td>0.010809</td>\n      <td>0.415242</td>\n      <td>1.168413e-04</td>\n      <td>0.004488</td>\n      <td>0.172426</td>\n    </tr>\n    <tr>\n      <th>9</th>\n      <td>0.356677</td>\n      <td>0.774936</td>\n      <td>1.272182e-01</td>\n      <td>0.276402</td>\n      <td>0.600526</td>\n    </tr>\n    <tr>\n      <th>10</th>\n      <td>0.512512</td>\n      <td>0.355391</td>\n      <td>2.626683e-01</td>\n      <td>0.182142</td>\n      <td>0.126303</td>\n    </tr>\n    <tr>\n      <th>11</th>\n      <td>0.844245</td>\n      <td>0.327283</td>\n      <td>7.127498e-01</td>\n      <td>0.276307</td>\n      <td>0.107114</td>\n    </tr>\n  </tbody>\n</table>\n</div>"
     },
     "execution_count": 15,
     "metadata": {},
     "output_type": "execute_result"
    }
   ]
  },
  {
   "cell_type": "code",
   "execution_count": null,
   "outputs": [],
   "source": [],
   "metadata": {
    "collapsed": false,
    "pycharm": {
     "name": "#%%\n"
    }
   }
  }
 ],
 "metadata": {
  "kernelspec": {
   "display_name": "Python 3",
   "language": "python",
   "name": "python3"
  },
  "language_info": {
   "codemirror_mode": {
    "name": "ipython",
    "version": 2
   },
   "file_extension": ".py",
   "mimetype": "text/x-python",
   "name": "python",
   "nbconvert_exporter": "python",
   "pygments_lexer": "ipython2",
   "version": "2.7.6"
  }
 },
 "nbformat": 4,
 "nbformat_minor": 0
}