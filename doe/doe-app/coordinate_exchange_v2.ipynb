{
 "cells": [
  {
   "cell_type": "code",
   "execution_count": 8,
   "metadata": {
    "collapsed": true
   },
   "outputs": [],
   "source": [
    "import fun_doe as fd"
   ]
  },
  {
   "cell_type": "code",
   "execution_count": 9,
   "outputs": [],
   "source": [
    "model, design, design_hist, optimality_hist = fd.coordinate_exchange(experiments=15,\n",
    "                                                                     features=2,\n",
    "                                                                     epochs=10,\n",
    "                                                                     levels=[-1.0, 0.0, 1.0],\n",
    "                                                                     model_order=1,\n",
    "                                                                     interactions_only=False,\n",
    "                                                                     bias=True)\n",
    "\n",
    "# TODO: make the levels desecrate for each feature. Now we are assuming that all features have the same levels."
   ],
   "metadata": {
    "collapsed": false,
    "pycharm": {
     "name": "#%%\n"
    }
   }
  },
  {
   "cell_type": "code",
   "execution_count": 10,
   "outputs": [
    {
     "data": {
      "text/plain": "     x0   x1\n0  -1.0 -1.0\n1  -1.0  1.0\n2  -1.0 -1.0\n3  -1.0  1.0\n4  -1.0 -1.0\n5  -1.0  1.0\n6  -1.0 -1.0\n7   1.0 -1.0\n8  -1.0  1.0\n9   1.0 -1.0\n10  1.0  1.0\n11  1.0  1.0\n12  1.0 -1.0\n13  1.0  1.0\n14  1.0 -1.0",
      "text/html": "<div>\n<style scoped>\n    .dataframe tbody tr th:only-of-type {\n        vertical-align: middle;\n    }\n\n    .dataframe tbody tr th {\n        vertical-align: top;\n    }\n\n    .dataframe thead th {\n        text-align: right;\n    }\n</style>\n<table border=\"1\" class=\"dataframe\">\n  <thead>\n    <tr style=\"text-align: right;\">\n      <th></th>\n      <th>x0</th>\n      <th>x1</th>\n    </tr>\n  </thead>\n  <tbody>\n    <tr>\n      <th>0</th>\n      <td>-1.0</td>\n      <td>-1.0</td>\n    </tr>\n    <tr>\n      <th>1</th>\n      <td>-1.0</td>\n      <td>1.0</td>\n    </tr>\n    <tr>\n      <th>2</th>\n      <td>-1.0</td>\n      <td>-1.0</td>\n    </tr>\n    <tr>\n      <th>3</th>\n      <td>-1.0</td>\n      <td>1.0</td>\n    </tr>\n    <tr>\n      <th>4</th>\n      <td>-1.0</td>\n      <td>-1.0</td>\n    </tr>\n    <tr>\n      <th>5</th>\n      <td>-1.0</td>\n      <td>1.0</td>\n    </tr>\n    <tr>\n      <th>6</th>\n      <td>-1.0</td>\n      <td>-1.0</td>\n    </tr>\n    <tr>\n      <th>7</th>\n      <td>1.0</td>\n      <td>-1.0</td>\n    </tr>\n    <tr>\n      <th>8</th>\n      <td>-1.0</td>\n      <td>1.0</td>\n    </tr>\n    <tr>\n      <th>9</th>\n      <td>1.0</td>\n      <td>-1.0</td>\n    </tr>\n    <tr>\n      <th>10</th>\n      <td>1.0</td>\n      <td>1.0</td>\n    </tr>\n    <tr>\n      <th>11</th>\n      <td>1.0</td>\n      <td>1.0</td>\n    </tr>\n    <tr>\n      <th>12</th>\n      <td>1.0</td>\n      <td>-1.0</td>\n    </tr>\n    <tr>\n      <th>13</th>\n      <td>1.0</td>\n      <td>1.0</td>\n    </tr>\n    <tr>\n      <th>14</th>\n      <td>1.0</td>\n      <td>-1.0</td>\n    </tr>\n  </tbody>\n</table>\n</div>"
     },
     "execution_count": 10,
     "metadata": {},
     "output_type": "execute_result"
    }
   ],
   "source": [
    "design"
   ],
   "metadata": {
    "collapsed": false,
    "pycharm": {
     "name": "#%%\n"
    }
   }
  },
  {
   "cell_type": "code",
   "execution_count": 11,
   "outputs": [
    {
     "data": {
      "text/plain": "      1   x0   x1\n0   1.0 -1.0 -1.0\n1   1.0 -1.0  1.0\n2   1.0 -1.0 -1.0\n3   1.0 -1.0  1.0\n4   1.0 -1.0 -1.0\n5   1.0 -1.0  1.0\n6   1.0 -1.0 -1.0\n7   1.0  1.0 -1.0\n8   1.0 -1.0  1.0\n9   1.0  1.0 -1.0\n10  1.0  1.0  1.0\n11  1.0  1.0  1.0\n12  1.0  1.0 -1.0\n13  1.0  1.0  1.0\n14  1.0  1.0 -1.0",
      "text/html": "<div>\n<style scoped>\n    .dataframe tbody tr th:only-of-type {\n        vertical-align: middle;\n    }\n\n    .dataframe tbody tr th {\n        vertical-align: top;\n    }\n\n    .dataframe thead th {\n        text-align: right;\n    }\n</style>\n<table border=\"1\" class=\"dataframe\">\n  <thead>\n    <tr style=\"text-align: right;\">\n      <th></th>\n      <th>1</th>\n      <th>x0</th>\n      <th>x1</th>\n    </tr>\n  </thead>\n  <tbody>\n    <tr>\n      <th>0</th>\n      <td>1.0</td>\n      <td>-1.0</td>\n      <td>-1.0</td>\n    </tr>\n    <tr>\n      <th>1</th>\n      <td>1.0</td>\n      <td>-1.0</td>\n      <td>1.0</td>\n    </tr>\n    <tr>\n      <th>2</th>\n      <td>1.0</td>\n      <td>-1.0</td>\n      <td>-1.0</td>\n    </tr>\n    <tr>\n      <th>3</th>\n      <td>1.0</td>\n      <td>-1.0</td>\n      <td>1.0</td>\n    </tr>\n    <tr>\n      <th>4</th>\n      <td>1.0</td>\n      <td>-1.0</td>\n      <td>-1.0</td>\n    </tr>\n    <tr>\n      <th>5</th>\n      <td>1.0</td>\n      <td>-1.0</td>\n      <td>1.0</td>\n    </tr>\n    <tr>\n      <th>6</th>\n      <td>1.0</td>\n      <td>-1.0</td>\n      <td>-1.0</td>\n    </tr>\n    <tr>\n      <th>7</th>\n      <td>1.0</td>\n      <td>1.0</td>\n      <td>-1.0</td>\n    </tr>\n    <tr>\n      <th>8</th>\n      <td>1.0</td>\n      <td>-1.0</td>\n      <td>1.0</td>\n    </tr>\n    <tr>\n      <th>9</th>\n      <td>1.0</td>\n      <td>1.0</td>\n      <td>-1.0</td>\n    </tr>\n    <tr>\n      <th>10</th>\n      <td>1.0</td>\n      <td>1.0</td>\n      <td>1.0</td>\n    </tr>\n    <tr>\n      <th>11</th>\n      <td>1.0</td>\n      <td>1.0</td>\n      <td>1.0</td>\n    </tr>\n    <tr>\n      <th>12</th>\n      <td>1.0</td>\n      <td>1.0</td>\n      <td>-1.0</td>\n    </tr>\n    <tr>\n      <th>13</th>\n      <td>1.0</td>\n      <td>1.0</td>\n      <td>1.0</td>\n    </tr>\n    <tr>\n      <th>14</th>\n      <td>1.0</td>\n      <td>1.0</td>\n      <td>-1.0</td>\n    </tr>\n  </tbody>\n</table>\n</div>"
     },
     "execution_count": 11,
     "metadata": {},
     "output_type": "execute_result"
    }
   ],
   "source": [
    "model"
   ],
   "metadata": {
    "collapsed": false,
    "pycharm": {
     "name": "#%%\n"
    }
   }
  },
  {
   "cell_type": "code",
   "execution_count": 12,
   "outputs": [],
   "source": [
    "import pyDOE"
   ],
   "metadata": {
    "collapsed": false,
    "pycharm": {
     "name": "#%%\n"
    }
   }
  },
  {
   "cell_type": "code",
   "execution_count": 13,
   "outputs": [
    {
     "data": {
      "text/plain": "'/Users/thodorisladas/opt/anaconda3/lib/python3.9/site-packages/pyDOE/__init__.py'"
     },
     "execution_count": 13,
     "metadata": {},
     "output_type": "execute_result"
    }
   ],
   "source": [
    "pyDOE.__file__"
   ],
   "metadata": {
    "collapsed": false,
    "pycharm": {
     "name": "#%%\n"
    }
   }
  },
  {
   "cell_type": "code",
   "execution_count": null,
   "outputs": [],
   "source": [],
   "metadata": {
    "collapsed": false,
    "pycharm": {
     "name": "#%%\n"
    }
   }
  },
  {
   "cell_type": "code",
   "execution_count": 1,
   "outputs": [
    {
     "data": {
      "text/plain": "{'experiments': 12,\n 'levels': {0: [-1, 0, 1], 1: [-5, 5]},\n 'features': 2,\n 'order': 2,\n 'interactions_only': False,\n 'bias': True,\n 'epochs': 3,\n 'criterion': 'det'}"
     },
     "execution_count": 1,
     "metadata": {},
     "output_type": "execute_result"
    }
   ],
   "source": [
    "import dexpy as dx\n",
    "des_1 = dx.Design(experiments=12, levels={0: [-1, 0, 1], 1: [-5, 5]})\n",
    "des_1.set_model(order=2, interactions_only=False, bias=True)\n",
    "des_1.set_algorithm(criterion=\"det\", epochs=3)\n",
    "des_1.__dict__"
   ],
   "metadata": {
    "collapsed": false,
    "pycharm": {
     "name": "#%%\n"
    }
   }
  },
  {
   "cell_type": "code",
   "execution_count": 3,
   "outputs": [
    {
     "data": {
      "text/plain": "      1   x0   x1  x0^2  x0 x1  x1^2\n0   1.0 -1.0 -5.0   1.0    5.0  25.0\n1   1.0 -1.0  5.0   1.0   -5.0  25.0\n2   1.0 -1.0 -5.0   1.0    5.0  25.0\n3   1.0 -1.0  5.0   1.0   -5.0  25.0\n4   1.0 -1.0 -5.0   1.0    5.0  25.0\n5   1.0 -1.0  5.0   1.0   -5.0  25.0\n6   1.0 -1.0 -5.0   1.0    5.0  25.0\n7   1.0 -1.0  5.0   1.0   -5.0  25.0\n8   1.0 -1.0 -5.0   1.0    5.0  25.0\n9   1.0  0.0 -5.0   0.0   -0.0  25.0\n10  1.0  1.0 -5.0   1.0   -5.0  25.0\n11  1.0  1.0 -5.0   1.0   -5.0  25.0",
      "text/html": "<div>\n<style scoped>\n    .dataframe tbody tr th:only-of-type {\n        vertical-align: middle;\n    }\n\n    .dataframe tbody tr th {\n        vertical-align: top;\n    }\n\n    .dataframe thead th {\n        text-align: right;\n    }\n</style>\n<table border=\"1\" class=\"dataframe\">\n  <thead>\n    <tr style=\"text-align: right;\">\n      <th></th>\n      <th>1</th>\n      <th>x0</th>\n      <th>x1</th>\n      <th>x0^2</th>\n      <th>x0 x1</th>\n      <th>x1^2</th>\n    </tr>\n  </thead>\n  <tbody>\n    <tr>\n      <th>0</th>\n      <td>1.0</td>\n      <td>-1.0</td>\n      <td>-5.0</td>\n      <td>1.0</td>\n      <td>5.0</td>\n      <td>25.0</td>\n    </tr>\n    <tr>\n      <th>1</th>\n      <td>1.0</td>\n      <td>-1.0</td>\n      <td>5.0</td>\n      <td>1.0</td>\n      <td>-5.0</td>\n      <td>25.0</td>\n    </tr>\n    <tr>\n      <th>2</th>\n      <td>1.0</td>\n      <td>-1.0</td>\n      <td>-5.0</td>\n      <td>1.0</td>\n      <td>5.0</td>\n      <td>25.0</td>\n    </tr>\n    <tr>\n      <th>3</th>\n      <td>1.0</td>\n      <td>-1.0</td>\n      <td>5.0</td>\n      <td>1.0</td>\n      <td>-5.0</td>\n      <td>25.0</td>\n    </tr>\n    <tr>\n      <th>4</th>\n      <td>1.0</td>\n      <td>-1.0</td>\n      <td>-5.0</td>\n      <td>1.0</td>\n      <td>5.0</td>\n      <td>25.0</td>\n    </tr>\n    <tr>\n      <th>5</th>\n      <td>1.0</td>\n      <td>-1.0</td>\n      <td>5.0</td>\n      <td>1.0</td>\n      <td>-5.0</td>\n      <td>25.0</td>\n    </tr>\n    <tr>\n      <th>6</th>\n      <td>1.0</td>\n      <td>-1.0</td>\n      <td>-5.0</td>\n      <td>1.0</td>\n      <td>5.0</td>\n      <td>25.0</td>\n    </tr>\n    <tr>\n      <th>7</th>\n      <td>1.0</td>\n      <td>-1.0</td>\n      <td>5.0</td>\n      <td>1.0</td>\n      <td>-5.0</td>\n      <td>25.0</td>\n    </tr>\n    <tr>\n      <th>8</th>\n      <td>1.0</td>\n      <td>-1.0</td>\n      <td>-5.0</td>\n      <td>1.0</td>\n      <td>5.0</td>\n      <td>25.0</td>\n    </tr>\n    <tr>\n      <th>9</th>\n      <td>1.0</td>\n      <td>0.0</td>\n      <td>-5.0</td>\n      <td>0.0</td>\n      <td>-0.0</td>\n      <td>25.0</td>\n    </tr>\n    <tr>\n      <th>10</th>\n      <td>1.0</td>\n      <td>1.0</td>\n      <td>-5.0</td>\n      <td>1.0</td>\n      <td>-5.0</td>\n      <td>25.0</td>\n    </tr>\n    <tr>\n      <th>11</th>\n      <td>1.0</td>\n      <td>1.0</td>\n      <td>-5.0</td>\n      <td>1.0</td>\n      <td>-5.0</td>\n      <td>25.0</td>\n    </tr>\n  </tbody>\n</table>\n</div>"
     },
     "execution_count": 3,
     "metadata": {},
     "output_type": "execute_result"
    }
   ],
   "source": [
    "m, bd, d, h = des_1.fit()\n",
    "m"
   ],
   "metadata": {
    "collapsed": false,
    "pycharm": {
     "name": "#%%\n"
    }
   }
  },
  {
   "cell_type": "code",
   "execution_count": 4,
   "outputs": [],
   "source": [
    "r = des_1.gen_random_design()"
   ],
   "metadata": {
    "collapsed": false,
    "pycharm": {
     "name": "#%%\n"
    }
   }
  },
  {
   "cell_type": "code",
   "execution_count": 5,
   "outputs": [],
   "source": [
    "m = des_1.gen_model_matrix(data=r)"
   ],
   "metadata": {
    "collapsed": false,
    "pycharm": {
     "name": "#%%\n"
    }
   }
  },
  {
   "cell_type": "code",
   "execution_count": 6,
   "outputs": [
    {
     "data": {
      "text/plain": "      1        x0        x1      x0^2     x0 x1      x1^2\n0   1.0  0.433523  0.260902  0.187942  0.113107  0.068070\n1   1.0  0.873448  0.685015  0.762912  0.598325  0.469245\n2   1.0  0.561671  0.451365  0.315475  0.253519  0.203730\n3   1.0  0.069982  0.187028  0.004897  0.013089  0.034980\n4   1.0  0.754083  0.083502  0.568642  0.062968  0.006973\n5   1.0  0.455447  0.100224  0.207432  0.045647  0.010045\n6   1.0  0.599938  0.447774  0.359926  0.268637  0.200502\n7   1.0  0.348604  0.265616  0.121525  0.092595  0.070552\n8   1.0  0.515629  0.588369  0.265873  0.303380  0.346178\n9   1.0  0.608670  0.138922  0.370479  0.084558  0.019299\n10  1.0  0.028968  0.272314  0.000839  0.007888  0.074155\n11  1.0  0.151908  0.334761  0.023076  0.050853  0.112065",
      "text/html": "<div>\n<style scoped>\n    .dataframe tbody tr th:only-of-type {\n        vertical-align: middle;\n    }\n\n    .dataframe tbody tr th {\n        vertical-align: top;\n    }\n\n    .dataframe thead th {\n        text-align: right;\n    }\n</style>\n<table border=\"1\" class=\"dataframe\">\n  <thead>\n    <tr style=\"text-align: right;\">\n      <th></th>\n      <th>1</th>\n      <th>x0</th>\n      <th>x1</th>\n      <th>x0^2</th>\n      <th>x0 x1</th>\n      <th>x1^2</th>\n    </tr>\n  </thead>\n  <tbody>\n    <tr>\n      <th>0</th>\n      <td>1.0</td>\n      <td>0.433523</td>\n      <td>0.260902</td>\n      <td>0.187942</td>\n      <td>0.113107</td>\n      <td>0.068070</td>\n    </tr>\n    <tr>\n      <th>1</th>\n      <td>1.0</td>\n      <td>0.873448</td>\n      <td>0.685015</td>\n      <td>0.762912</td>\n      <td>0.598325</td>\n      <td>0.469245</td>\n    </tr>\n    <tr>\n      <th>2</th>\n      <td>1.0</td>\n      <td>0.561671</td>\n      <td>0.451365</td>\n      <td>0.315475</td>\n      <td>0.253519</td>\n      <td>0.203730</td>\n    </tr>\n    <tr>\n      <th>3</th>\n      <td>1.0</td>\n      <td>0.069982</td>\n      <td>0.187028</td>\n      <td>0.004897</td>\n      <td>0.013089</td>\n      <td>0.034980</td>\n    </tr>\n    <tr>\n      <th>4</th>\n      <td>1.0</td>\n      <td>0.754083</td>\n      <td>0.083502</td>\n      <td>0.568642</td>\n      <td>0.062968</td>\n      <td>0.006973</td>\n    </tr>\n    <tr>\n      <th>5</th>\n      <td>1.0</td>\n      <td>0.455447</td>\n      <td>0.100224</td>\n      <td>0.207432</td>\n      <td>0.045647</td>\n      <td>0.010045</td>\n    </tr>\n    <tr>\n      <th>6</th>\n      <td>1.0</td>\n      <td>0.599938</td>\n      <td>0.447774</td>\n      <td>0.359926</td>\n      <td>0.268637</td>\n      <td>0.200502</td>\n    </tr>\n    <tr>\n      <th>7</th>\n      <td>1.0</td>\n      <td>0.348604</td>\n      <td>0.265616</td>\n      <td>0.121525</td>\n      <td>0.092595</td>\n      <td>0.070552</td>\n    </tr>\n    <tr>\n      <th>8</th>\n      <td>1.0</td>\n      <td>0.515629</td>\n      <td>0.588369</td>\n      <td>0.265873</td>\n      <td>0.303380</td>\n      <td>0.346178</td>\n    </tr>\n    <tr>\n      <th>9</th>\n      <td>1.0</td>\n      <td>0.608670</td>\n      <td>0.138922</td>\n      <td>0.370479</td>\n      <td>0.084558</td>\n      <td>0.019299</td>\n    </tr>\n    <tr>\n      <th>10</th>\n      <td>1.0</td>\n      <td>0.028968</td>\n      <td>0.272314</td>\n      <td>0.000839</td>\n      <td>0.007888</td>\n      <td>0.074155</td>\n    </tr>\n    <tr>\n      <th>11</th>\n      <td>1.0</td>\n      <td>0.151908</td>\n      <td>0.334761</td>\n      <td>0.023076</td>\n      <td>0.050853</td>\n      <td>0.112065</td>\n    </tr>\n  </tbody>\n</table>\n</div>"
     },
     "execution_count": 6,
     "metadata": {},
     "output_type": "execute_result"
    }
   ],
   "source": [
    "m"
   ],
   "metadata": {
    "collapsed": false,
    "pycharm": {
     "name": "#%%\n"
    }
   }
  },
  {
   "cell_type": "code",
   "execution_count": 10,
   "outputs": [
    {
     "data": {
      "text/plain": "<enumerate at 0x7fd998df06c0>"
     },
     "execution_count": 10,
     "metadata": {},
     "output_type": "execute_result"
    }
   ],
   "source": [
    "d = {0: [-1, 1], 1: [-1, 1]}\n",
    "enumerate([1,2])"
   ],
   "metadata": {
    "collapsed": false,
    "pycharm": {
     "name": "#%%\n"
    }
   }
  },
  {
   "cell_type": "code",
   "execution_count": 34,
   "outputs": [
    {
     "name": "stdout",
     "output_type": "stream",
     "text": [
      "0 --> [-2, 2]\n",
      "1 --> [-5, 5]\n"
     ]
    }
   ],
   "source": [
    "levels_2 = {0: [-2, 2], 1: [-5, 5]}\n",
    "for (k,v) in levels_2.items():\n",
    "    print(k, '-->', v)"
   ],
   "metadata": {
    "collapsed": false,
    "pycharm": {
     "name": "#%%\n"
    }
   }
  },
  {
   "cell_type": "code",
   "execution_count": 27,
   "outputs": [
    {
     "data": {
      "text/plain": "[-2, 2]"
     },
     "execution_count": 27,
     "metadata": {},
     "output_type": "execute_result"
    }
   ],
   "source": [
    "experiment=-1+1\n",
    "feature=-1+1\n",
    "levels_2['feat0']"
   ],
   "metadata": {
    "collapsed": false,
    "pycharm": {
     "name": "#%%\n"
    }
   }
  },
  {
   "cell_type": "code",
   "execution_count": 35,
   "outputs": [
    {
     "name": "stdout",
     "output_type": "stream",
     "text": [
      "Exp: 1, Feat: 1, count: 1, lvl: -2\n",
      "Exp: 1, Feat: 1, count: 2, lvl: 2\n",
      "Exp: 1, Feat: 2, count: 1, lvl: -5\n",
      "Exp: 1, Feat: 2, count: 2, lvl: 5\n",
      "Exp: 2, Feat: 1, count: 1, lvl: -2\n",
      "Exp: 2, Feat: 1, count: 2, lvl: 2\n",
      "Exp: 2, Feat: 2, count: 1, lvl: -5\n",
      "Exp: 2, Feat: 2, count: 2, lvl: 5\n",
      "Exp: 3, Feat: 1, count: 1, lvl: -2\n",
      "Exp: 3, Feat: 1, count: 2, lvl: 2\n",
      "Exp: 3, Feat: 2, count: 1, lvl: -5\n",
      "Exp: 3, Feat: 2, count: 2, lvl: 5\n",
      "Exp: 4, Feat: 1, count: 1, lvl: -2\n",
      "Exp: 4, Feat: 1, count: 2, lvl: 2\n",
      "Exp: 4, Feat: 2, count: 1, lvl: -5\n",
      "Exp: 4, Feat: 2, count: 2, lvl: 5\n",
      "Exp: 5, Feat: 1, count: 1, lvl: -2\n",
      "Exp: 5, Feat: 1, count: 2, lvl: 2\n",
      "Exp: 5, Feat: 2, count: 1, lvl: -5\n",
      "Exp: 5, Feat: 2, count: 2, lvl: 5\n",
      "Exp: 6, Feat: 1, count: 1, lvl: -2\n",
      "Exp: 6, Feat: 1, count: 2, lvl: 2\n",
      "Exp: 6, Feat: 2, count: 1, lvl: -5\n",
      "Exp: 6, Feat: 2, count: 2, lvl: 5\n",
      "Exp: 7, Feat: 1, count: 1, lvl: -2\n",
      "Exp: 7, Feat: 1, count: 2, lvl: 2\n",
      "Exp: 7, Feat: 2, count: 1, lvl: -5\n",
      "Exp: 7, Feat: 2, count: 2, lvl: 5\n",
      "Exp: 8, Feat: 1, count: 1, lvl: -2\n",
      "Exp: 8, Feat: 1, count: 2, lvl: 2\n",
      "Exp: 8, Feat: 2, count: 1, lvl: -5\n",
      "Exp: 8, Feat: 2, count: 2, lvl: 5\n",
      "Exp: 9, Feat: 1, count: 1, lvl: -2\n",
      "Exp: 9, Feat: 1, count: 2, lvl: 2\n",
      "Exp: 9, Feat: 2, count: 1, lvl: -5\n",
      "Exp: 9, Feat: 2, count: 2, lvl: 5\n",
      "Exp: 10, Feat: 1, count: 1, lvl: -2\n",
      "Exp: 10, Feat: 1, count: 2, lvl: 2\n",
      "Exp: 10, Feat: 2, count: 1, lvl: -5\n",
      "Exp: 10, Feat: 2, count: 2, lvl: 5\n",
      "Exp: 11, Feat: 1, count: 1, lvl: -2\n",
      "Exp: 11, Feat: 1, count: 2, lvl: 2\n",
      "Exp: 11, Feat: 2, count: 1, lvl: -5\n",
      "Exp: 11, Feat: 2, count: 2, lvl: 5\n",
      "Exp: 12, Feat: 1, count: 1, lvl: -2\n",
      "Exp: 12, Feat: 1, count: 2, lvl: 2\n",
      "Exp: 12, Feat: 2, count: 1, lvl: -5\n",
      "Exp: 12, Feat: 2, count: 2, lvl: 5\n",
      "Exp: 13, Feat: 1, count: 1, lvl: -2\n",
      "Exp: 13, Feat: 1, count: 2, lvl: 2\n",
      "Exp: 13, Feat: 2, count: 1, lvl: -5\n",
      "Exp: 13, Feat: 2, count: 2, lvl: 5\n",
      "Exp: 14, Feat: 1, count: 1, lvl: -2\n",
      "Exp: 14, Feat: 1, count: 2, lvl: 2\n",
      "Exp: 14, Feat: 2, count: 1, lvl: -5\n",
      "Exp: 14, Feat: 2, count: 2, lvl: 5\n",
      "Exp: 15, Feat: 1, count: 1, lvl: -2\n",
      "Exp: 15, Feat: 1, count: 2, lvl: 2\n",
      "Exp: 15, Feat: 2, count: 1, lvl: -5\n",
      "Exp: 15, Feat: 2, count: 2, lvl: 5\n"
     ]
    }
   ],
   "source": [
    "levels=[-1,1]\n",
    "experiments, features = 15,2\n",
    "\n",
    "for row in range(experiments):\n",
    "    for col in range(features):\n",
    "        for count, level in enumerate(levels_2[col]):\n",
    "            print(f\"Exp: {row+1}, Feat: {col+1}, count: {count+1}, lvl: {level}\")"
   ],
   "metadata": {
    "collapsed": false,
    "pycharm": {
     "name": "#%%\n"
    }
   }
  },
  {
   "cell_type": "code",
   "execution_count": 3,
   "outputs": [
    {
     "data": {
      "text/plain": "          x0        x1\n0   0.492278  0.098938\n1   0.966641  0.184420\n2   0.655142  0.843087\n3   0.519798  0.880590\n4   0.671437  0.719057\n5   0.283838  0.892431\n6   0.406209  0.699103\n7   0.007848  0.978272\n8   0.896319  0.921159\n9   0.591123  0.972689\n10  0.674755  0.169338\n11  0.335469  0.291961",
      "text/html": "<div>\n<style scoped>\n    .dataframe tbody tr th:only-of-type {\n        vertical-align: middle;\n    }\n\n    .dataframe tbody tr th {\n        vertical-align: top;\n    }\n\n    .dataframe thead th {\n        text-align: right;\n    }\n</style>\n<table border=\"1\" class=\"dataframe\">\n  <thead>\n    <tr style=\"text-align: right;\">\n      <th></th>\n      <th>x0</th>\n      <th>x1</th>\n    </tr>\n  </thead>\n  <tbody>\n    <tr>\n      <th>0</th>\n      <td>0.492278</td>\n      <td>0.098938</td>\n    </tr>\n    <tr>\n      <th>1</th>\n      <td>0.966641</td>\n      <td>0.184420</td>\n    </tr>\n    <tr>\n      <th>2</th>\n      <td>0.655142</td>\n      <td>0.843087</td>\n    </tr>\n    <tr>\n      <th>3</th>\n      <td>0.519798</td>\n      <td>0.880590</td>\n    </tr>\n    <tr>\n      <th>4</th>\n      <td>0.671437</td>\n      <td>0.719057</td>\n    </tr>\n    <tr>\n      <th>5</th>\n      <td>0.283838</td>\n      <td>0.892431</td>\n    </tr>\n    <tr>\n      <th>6</th>\n      <td>0.406209</td>\n      <td>0.699103</td>\n    </tr>\n    <tr>\n      <th>7</th>\n      <td>0.007848</td>\n      <td>0.978272</td>\n    </tr>\n    <tr>\n      <th>8</th>\n      <td>0.896319</td>\n      <td>0.921159</td>\n    </tr>\n    <tr>\n      <th>9</th>\n      <td>0.591123</td>\n      <td>0.972689</td>\n    </tr>\n    <tr>\n      <th>10</th>\n      <td>0.674755</td>\n      <td>0.169338</td>\n    </tr>\n    <tr>\n      <th>11</th>\n      <td>0.335469</td>\n      <td>0.291961</td>\n    </tr>\n  </tbody>\n</table>\n</div>"
     },
     "execution_count": 3,
     "metadata": {},
     "output_type": "execute_result"
    }
   ],
   "source": [],
   "metadata": {
    "collapsed": false,
    "pycharm": {
     "name": "#%%\n"
    }
   }
  },
  {
   "cell_type": "code",
   "execution_count": 38,
   "outputs": [
    {
     "data": {
      "text/plain": "2"
     },
     "execution_count": 38,
     "metadata": {},
     "output_type": "execute_result"
    }
   ],
   "source": [
    "levels_2[0][1]"
   ],
   "metadata": {
    "collapsed": false,
    "pycharm": {
     "name": "#%%\n"
    }
   }
  },
  {
   "cell_type": "code",
   "execution_count": null,
   "outputs": [],
   "source": [],
   "metadata": {
    "collapsed": false,
    "pycharm": {
     "name": "#%%\n"
    }
   }
  }
 ],
 "metadata": {
  "kernelspec": {
   "display_name": "Python 3",
   "language": "python",
   "name": "python3"
  },
  "language_info": {
   "codemirror_mode": {
    "name": "ipython",
    "version": 2
   },
   "file_extension": ".py",
   "mimetype": "text/x-python",
   "name": "python",
   "nbconvert_exporter": "python",
   "pygments_lexer": "ipython2",
   "version": "2.7.6"
  }
 },
 "nbformat": 4,
 "nbformat_minor": 0
}