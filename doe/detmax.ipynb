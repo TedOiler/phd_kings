{
 "cells": [
  {
   "cell_type": "code",
   "execution_count": 1129,
   "metadata": {
    "collapsed": true
   },
   "outputs": [],
   "source": [
    "import numpy as np\n",
    "import pandas as pd"
   ]
  },
  {
   "cell_type": "code",
   "execution_count": 1130,
   "outputs": [],
   "source": [
    "def gen_candidate_set(xis):\n",
    "    return pd.DataFrame(np.array(np.meshgrid(*xis)).T.reshape(-1,len(xis)))"
   ],
   "metadata": {
    "collapsed": false,
    "pycharm": {
     "name": "#%%\n"
    }
   }
  },
  {
   "cell_type": "code",
   "execution_count": 1131,
   "outputs": [],
   "source": [
    "def gen_model_matrix(candidate, n):\n",
    "    # only main model effects is implemented for the time being.\n",
    "\n",
    "    # np.random.choice(4, replace = True, size = 6)\n",
    "    sample = candidate.sample(n, replace=False)\n",
    "    # X = np.hstack((np.ones((n,1)), sample))\n",
    "    return sample"
   ],
   "metadata": {
    "collapsed": false,
    "pycharm": {
     "name": "#%%\n"
    }
   }
  },
  {
   "cell_type": "code",
   "execution_count": 1132,
   "outputs": [],
   "source": [
    "xis = ([-1, 0, 1],\n",
    "       [-1, 0, 1],\n",
    "       [-1, 0, 1],\n",
    "       [-1, 0, 1])\n",
    "\n",
    "candidate = gen_candidate_set(xis)\n",
    "X = gen_model_matrix(candidate, 5)\n",
    "candidate.drop(X.index, inplace=True)"
   ],
   "metadata": {
    "collapsed": false,
    "pycharm": {
     "name": "#%%\n"
    }
   }
  },
  {
   "cell_type": "code",
   "execution_count": 1133,
   "outputs": [],
   "source": [
    "inf_mat = X.T @ X # calculate information matrix\n",
    "inv_mat = np.linalg.inv(inf_mat) # calculate inverse of information matrix"
   ],
   "metadata": {
    "collapsed": false,
    "pycharm": {
     "name": "#%%\n"
    }
   }
  },
  {
   "cell_type": "code",
   "execution_count": 1134,
   "outputs": [],
   "source": [
    "# calculate variance of remaining experiments\n",
    "variance_experiment = np.array([])\n",
    "for i in range(candidate.shape[0]):\n",
    "    experiment = candidate.iloc[[i]]\n",
    "    variance_experiment = np.append(variance_experiment, (experiment @ inv_mat @ experiment.T).iat[0,0])"
   ],
   "metadata": {
    "collapsed": false,
    "pycharm": {
     "name": "#%%\n"
    }
   }
  },
  {
   "cell_type": "code",
   "execution_count": 1135,
   "outputs": [],
   "source": [
    "max_var = np.argmax(variance_experiment) # best experiment to add\n",
    "min_var = np.argmin(X) # best experiment to remove"
   ],
   "metadata": {
    "collapsed": false,
    "pycharm": {
     "name": "#%%\n"
    }
   }
  },
  {
   "cell_type": "code",
   "execution_count": 1136,
   "outputs": [],
   "source": [
    "count = 0\n",
    "max = 100\n",
    "while count < max:\n",
    "    if count"
   ],
   "metadata": {
    "collapsed": false,
    "pycharm": {
     "name": "#%%\n"
    }
   }
  },
  {
   "cell_type": "code",
   "execution_count": null,
   "outputs": [],
   "source": [],
   "metadata": {
    "collapsed": false,
    "pycharm": {
     "name": "#%%\n"
    }
   }
  },
  {
   "cell_type": "code",
   "execution_count": null,
   "outputs": [],
   "source": [],
   "metadata": {
    "collapsed": false,
    "pycharm": {
     "name": "#%%\n"
    }
   }
  }
 ],
 "metadata": {
  "kernelspec": {
   "display_name": "Python 3",
   "language": "python",
   "name": "python3"
  },
  "language_info": {
   "codemirror_mode": {
    "name": "ipython",
    "version": 2
   },
   "file_extension": ".py",
   "mimetype": "text/x-python",
   "name": "python",
   "nbconvert_exporter": "python",
   "pygments_lexer": "ipython2",
   "version": "2.7.6"
  }
 },
 "nbformat": 4,
 "nbformat_minor": 0
}