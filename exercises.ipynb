{
 "cells": [
  {
   "cell_type": "code",
   "execution_count": 1,
   "metadata": {
    "collapsed": true
   },
   "outputs": [],
   "source": [
    "import numpy as np"
   ]
  },
  {
   "cell_type": "code",
   "execution_count": 7,
   "outputs": [
    {
     "data": {
      "text/plain": "array([[2.2222 , 0.79991, 2.22224],\n       [2.27417, 0.83422, 2.27422],\n       [2.46911, 0.97549, 2.46916],\n       [4.95098, 1.     , 0.04902],\n       [5.     , 1.     , 0.     ]])"
     },
     "execution_count": 7,
     "metadata": {},
     "output_type": "execute_result"
    }
   ],
   "source": [
    "def lambda_calc(l):\n",
    "    X = np.array([\n",
    "        [-1,-1,-1.0001],\n",
    "        [-1,1,-0.9999],\n",
    "        [1,-1,1.],\n",
    "        [1,1,1.]])\n",
    "\n",
    "    y = np.array([10,12,20,22])\n",
    "    I = np.identity(X.shape[1])\n",
    "    return np.linalg.inv(X.T @ X + l * I) @ X.T @ y\n",
    "\n",
    "betas = []\n",
    "lambdas = [0,10**(-1),1,10**(1), 10**(8)]\n",
    "for i in lambdas:\n",
    "    beta = lambda_calc(l=10**(-i))\n",
    "    betas.append([*beta])\n",
    "\n",
    "np.array(betas).round(5)"
   ],
   "metadata": {
    "collapsed": false,
    "pycharm": {
     "name": "#%%\n"
    }
   }
  },
  {
   "cell_type": "code",
   "execution_count": null,
   "outputs": [],
   "source": [],
   "metadata": {
    "collapsed": false,
    "pycharm": {
     "name": "#%%\n"
    }
   }
  }
 ],
 "metadata": {
  "kernelspec": {
   "display_name": "Python 3",
   "language": "python",
   "name": "python3"
  },
  "language_info": {
   "codemirror_mode": {
    "name": "ipython",
    "version": 2
   },
   "file_extension": ".py",
   "mimetype": "text/x-python",
   "name": "python",
   "nbconvert_exporter": "python",
   "pygments_lexer": "ipython2",
   "version": "2.7.6"
  }
 },
 "nbformat": 4,
 "nbformat_minor": 0
}