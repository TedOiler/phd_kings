{
 "cells": [
  {
   "cell_type": "code",
   "execution_count": 8,
   "id": "16b013dd-08d5-4ffb-9cc6-b175b5e7afdf",
   "metadata": {},
   "outputs": [],
   "source": [
    "import matplotlib.pyplot as plt\n",
    "from matplotlib.widgets import Slider, Button\n",
    "import numpy as np"
   ]
  },
  {
   "cell_type": "code",
   "execution_count": 9,
   "outputs": [],
   "source": [
    "def basis_pol(data, degrees=2):\n",
    "    copy = data.reshape(-1,1).copy()\n",
    "    polynomials = np.ones((len(data),1))\n",
    "    for i in range(0, degrees+1):\n",
    "        polynomials = np.append(polynomials, copy**i, axis=1)\n",
    "    return polynomials[:,1:]"
   ],
   "metadata": {
    "collapsed": false,
    "pycharm": {
     "name": "#%%\n"
    }
   }
  },
  {
   "cell_type": "code",
   "execution_count": 10,
   "outputs": [],
   "source": [
    "def x(t, c_0=0, c_1=0, c_2=1):\n",
    "    c = np.array([c_0,c_1,c_2])\n",
    "    basis = basis_pol(t)\n",
    "    return np.sum(c*basis, axis=1)"
   ],
   "metadata": {
    "collapsed": false,
    "pycharm": {
     "name": "#%%\n"
    }
   }
  },
  {
   "cell_type": "code",
   "execution_count": 11,
   "outputs": [],
   "source": [
    "def beta_0(t):\n",
    "    c = np.array([0,1,0])\n",
    "    basis = basis_pol(t)\n",
    "    return np.sum(c*basis, axis=1)"
   ],
   "metadata": {
    "collapsed": false,
    "pycharm": {
     "name": "#%%\n"
    }
   }
  },
  {
   "cell_type": "code",
   "execution_count": 12,
   "outputs": [],
   "source": [
    "def beta(t):\n",
    "    c = np.array([-0.2,-1.98,1])\n",
    "    basis = basis_pol(t)\n",
    "    return np.sum(c*basis, axis=1)"
   ],
   "metadata": {
    "collapsed": false,
    "pycharm": {
     "name": "#%%\n"
    }
   }
  },
  {
   "cell_type": "code",
   "execution_count": 13,
   "outputs": [],
   "source": [
    "def y(t, c_0):\n",
    "    return beta_0(t) - beta(t)*x(t, c_0=c_0)"
   ],
   "metadata": {
    "collapsed": false,
    "pycharm": {
     "name": "#%%\n"
    }
   }
  },
  {
   "cell_type": "code",
   "execution_count": 14,
   "outputs": [
    {
     "data": {
      "text/plain": "<Figure size 432x288 with 1 Axes>",
      "image/png": "[encoded data removed]"
     },
     "metadata": {
      "needs_background": "light"
     },
     "output_type": "display_data"
    }
   ],
   "source": [
    "t = np.linspace(-2.0, 2.0)\n",
    "c_0 = 0\n",
    "res = y(t, c_0)\n",
    "plt.plot(t,res)\n",
    "plt.ylim([-6,6])\n",
    "plt.subplots_adjust(bottom=0.25)\n",
    "plt.show()"
   ],
   "metadata": {
    "collapsed": false,
    "pycharm": {
     "name": "#%%\n"
    }
   }
  }
 ],
 "metadata": {
  "kernelspec": {
   "display_name": "Python 3 (ipykernel)",
   "language": "python",
   "name": "python3"
  },
  "language_info": {
   "codemirror_mode": {
    "name": "ipython",
    "version": 3
   },
   "file_extension": ".py",
   "mimetype": "text/x-python",
   "name": "python",
   "nbconvert_exporter": "python",
   "pygments_lexer": "ipython3",
   "version": "3.9.7"
  }
 },
 "nbformat": 4,
 "nbformat_minor": 5
}