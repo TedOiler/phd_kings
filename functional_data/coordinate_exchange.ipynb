{
 "cells": [
  {
   "cell_type": "code",
   "execution_count": 542,
   "metadata": {
    "collapsed": true
   },
   "outputs": [],
   "source": [
    "import numpy as np\n",
    "import matplotlib.pyplot as plt\n",
    "import pandas as pd"
   ]
  },
  {
   "cell_type": "code",
   "execution_count": 543,
   "outputs": [],
   "source": [
    "levels = [-1.0,1.0]\n",
    "D = np.random.uniform(low=-1, high=1, size=(14,8))\n",
    "n_row,n_col = D.shape\n",
    "X = np.hstack((np.ones((n_row,1)), D))"
   ],
   "metadata": {
    "collapsed": false,
    "pycharm": {
     "name": "#%%\n"
    }
   }
  },
  {
   "cell_type": "code",
   "execution_count": 544,
   "outputs": [],
   "source": [
    "def calc_det(D, i, j, level):\n",
    "    levels = [-1.0,1.0]\n",
    "    n_row,n_col = D.shape\n",
    "\n",
    "    D[i,j] = levels[level]\n",
    "    X = np.hstack((np.ones((n_row,1)), D))\n",
    "\n",
    "    return np.linalg.det(X.T @ X)"
   ],
   "metadata": {
    "collapsed": false,
    "pycharm": {
     "name": "#%%\n"
    }
   }
  },
  {
   "cell_type": "code",
   "execution_count": 545,
   "outputs": [
    {
     "name": "stdout",
     "output_type": "stream",
     "text": [
      "      0     1     2     3     4     5     6     7\n",
      "0  14.0  10.0  10.0  10.0  10.0  10.0  10.0  10.0\n",
      "1  10.0  14.0  10.0  10.0  10.0  10.0  10.0  10.0\n",
      "2  10.0  10.0  14.0  10.0  10.0  10.0  10.0  10.0\n",
      "3  10.0  10.0  10.0  14.0  10.0  10.0  10.0  10.0\n",
      "4  10.0  10.0  10.0  10.0  14.0  10.0  10.0  10.0\n",
      "5  10.0  10.0  10.0  10.0  10.0  14.0  10.0  10.0\n",
      "6  10.0  10.0  10.0  10.0  10.0  10.0  14.0  10.0\n",
      "7  10.0  10.0  10.0  10.0  10.0  10.0  10.0  14.0\n"
     ]
    }
   ],
   "source": [
    "max_det = n_row**(n_col+1)\n",
    "\n",
    "# Coordinate by coordinate change from 1 to -1 and check the determinant\n",
    "for i in range(n_row):\n",
    "    for j in range(n_col):\n",
    "        cur_det = np.linalg.det(X.T @ X)\n",
    "        next_det = calc_det(D=D, i=i, j=j, level=0)\n",
    "        if next_det <= cur_det:\n",
    "            next_det = calc_det(D=D, i=i, j=j, level=1)\n",
    "print(pd.DataFrame(D.T @ D))"
   ],
   "metadata": {
    "collapsed": false,
    "pycharm": {
     "name": "#%%\n"
    }
   }
  },
  {
   "cell_type": "code",
   "execution_count": 545,
   "outputs": [],
   "source": [],
   "metadata": {
    "collapsed": false,
    "pycharm": {
     "name": "#%%\n"
    }
   }
  },
  {
   "cell_type": "code",
   "execution_count": 545,
   "outputs": [],
   "source": [],
   "metadata": {
    "collapsed": false,
    "pycharm": {
     "name": "#%%\n"
    }
   }
  }
 ],
 "metadata": {
  "kernelspec": {
   "display_name": "Python 3",
   "language": "python",
   "name": "python3"
  },
  "language_info": {
   "codemirror_mode": {
    "name": "ipython",
    "version": 2
   },
   "file_extension": ".py",
   "mimetype": "text/x-python",
   "name": "python",
   "nbconvert_exporter": "python",
   "pygments_lexer": "ipython2",
   "version": "2.7.6"
  }
 },
 "nbformat": 4,
 "nbformat_minor": 0
}